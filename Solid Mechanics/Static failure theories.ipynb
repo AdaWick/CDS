{
 "cells": [
  {
   "cell_type": "raw",
   "metadata": {},
   "source": [
    "Content provided under a Creative Commons Attribution license, CC-BY 4.0; code under MIT license. (c) 2021 Adam M. Wickenheiser"
   ]
  },
  {
   "cell_type": "markdown",
   "metadata": {},
   "source": [
    "##### Version 1.1 -- February 2021"
   ]
  },
  {
   "cell_type": "markdown",
   "metadata": {},
   "source": [
    "# Static failure theories"
   ]
  },
  {
   "cell_type": "markdown",
   "metadata": {},
   "source": [
    "## Contents:\n",
    "\n",
    "1. [Stress tensor](#stresstensor)\n",
    "1. [Principle stresses](#principle)\n",
    "1. [Maximum shear stress theory](#mss)\n",
    "1. [Distortion energy theory](#de)\n",
    "1. [Ductile Coulomb-Mohr theory](#dcm)"
   ]
  },
  {
   "attachments": {},
   "cell_type": "markdown",
   "metadata": {},
   "source": [
    "<a id='stresstensor'></a>\n",
    "\n",
    "### Stress tensor\n",
    "\n",
    "This section gives an informal derivation of the <strong>stress tensor</strong> given by\n",
    "\n",
    "\\\\(\\mathbf{\\sigma} = \\begin{bmatrix} \\sigma_{xx} & \\tau_{xy} & \\tau_{xz} \\\\ \\tau_{xy} & \\sigma_{yy} & \\tau_{yz} \\\\ \\tau_{xz} & \\tau_{yz} & \\sigma_{zz}\\end{bmatrix}\\\\)\n",
    "\n",
    "and may be skipped without loss of meaning.\n",
    "\n",
    "A small element of material can be represented by a cube with a Cartesian coordinate system aligned with its edges.  In general, each face of the cube has a stress \\\\(\\mathbf{T}\\\\) applied to it due to interactions (molecular forces) with its neighboring cubes of material.  Note that stress is a vector: it is force (which is a vector) divided by area (a scalar).  Therefore, we can label the 3 components of stress.\n",
    "\n",
    "In the following example, we break down the stress \\\\(\\mathbf{T}\\\\) into 3 components, \\\\(\\sigma_{xx}\\\\), \\\\(\\tau_{xy}\\\\), and \\\\(\\tau_{xz}\\\\).\n",
    "\n",
    "<img src=\"images/stress components.png\" width=\"600\" />\n",
    "\n",
    "The \\\\(\\sigma_{xx}\\\\) notation indicates that this is a normal stress component on the side of the cube facing the \\\\(x\\\\)-direction with the stress acting in the \\\\(x\\\\)-direction.  The \\\\(\\tau_{xy}\\\\) notation indicates that this is a shear stress component on the side of the cube facing the \\\\(x\\\\)-direction with the stress acting in the \\\\(y\\\\)-direction.  The \\\\(\\tau_{xz}\\\\) notation indicates that this is a shear stress component on the side of the cube facing the \\\\(x\\\\)-direction with the stress acting in the \\\\(z\\\\)-direction.\n",
    "\n",
    "Note that, by conservation of angular momentum, we have \\\\(\\tau_{xy} = \\tau_{yx}\\\\), \\\\(\\tau_{xz} = \\tau_{zx}\\\\), and \\\\(\\tau_{yz} = \\tau_{zy}\\\\)."
   ]
  },
  {
   "attachments": {},
   "cell_type": "markdown",
   "metadata": {},
   "source": [
    "Let's say we wanted to look at the total stress on this cube in the \\\\(x\\\\)-direction.  Which components are pointed in the \\\\(x\\\\)-direction?  Certainly \\\\(\\sigma_{xx}\\\\) is, but so are two of the shear stresses on the other faces, as shown below.\n",
    "\n",
    "<img src=\"images/T_x components.png\" width=\"300\" />\n",
    "\n",
    "Thus, we have\n",
    "\n",
    "\\\\(T_x = \\sigma_{xx} + \\tau_{xy} + \\tau_{xz}\\\\)\n",
    "\n",
    "Similarly,\n",
    "\n",
    "\\\\(T_y = \\tau_{xy} + \\sigma_{yy} + \\tau_{yz}\\\\)\n",
    "\n",
    "and\n",
    "\n",
    "\\\\(T_z = \\tau_{xz} + \\tau_{yz} + \\sigma_{zz}\\\\)\n",
    "\n",
    "These equations can be assembled into a matrix-vector equation:\n",
    "\n",
    "\\\\(\\begin{bmatrix} T_x \\\\ T_y \\\\ T_z \\end{bmatrix} = \\begin{bmatrix} \\sigma_{xx} & \\tau_{xy} & \\tau_{xz} \\\\ \\tau_{xy} & \\sigma_{yy} & \\tau_{yz} \\\\ \\tau_{xz} & \\tau_{yz} & \\sigma_{zz}\\end{bmatrix} \\begin{bmatrix} 1 \\\\ 1 \\\\ 1 \\end{bmatrix}\\\\)\n",
    "\n",
    "Going one step further, to calculate the stress in any direction \\\\(\\begin{bmatrix} n_x n_y n_z \\end{bmatrix}^T\\\\), assumed to be a unit vector, you can use the equation\n",
    "\n",
    "\\\\(\\begin{bmatrix} T_x \\\\ T_y \\\\ T_z \\end{bmatrix} = \\begin{bmatrix} \\sigma_{xx} & \\tau_{xy} & \\tau_{xz} \\\\ \\tau_{xy} & \\sigma_{yy} & \\tau_{yz} \\\\ \\tau_{xz} & \\tau_{yz} & \\sigma_{zz}\\end{bmatrix} \\begin{bmatrix} n_x \\\\ n_y \\\\ n_z \\end{bmatrix}\\\\)\n",
    "\n",
    "The vector \\\\(\\begin{bmatrix} T_x & T_y & T_z \\end{bmatrix}^T\\\\) is the stress vector at the location the cube is centered at in the direction \\\\(\\begin{bmatrix} n_x n_y n_z \\end{bmatrix}^T\\\\).\n",
    "\n",
    "The 3x3 matrix that appears in this equation is called the <strong>stress tensor</strong>.\n",
    "\n",
    "More information about the stress tensor can be found at the following links:\n",
    "\n",
    "[Wikipedia](https://en.wikipedia.org/wiki/Cauchy_stress_tensor)\n",
    "\n",
    "[Introductory video](https://www.youtube.com/watch?v=qrROIlBCZPE)"
   ]
  },
  {
   "attachments": {},
   "cell_type": "markdown",
   "metadata": {},
   "source": [
    "<a id='principle'></a>\n",
    "\n",
    "### Principal stresses\n",
    "\n",
    "One of the reasons why we arrange the stresses (normal and shear) into a 3x3 matrix like\n",
    "\n",
    "\\\\(\\mathbf{\\sigma} = \\begin{bmatrix} \\sigma_{xx} & \\tau_{xy} & \\tau_{xz} \\\\ \\tau_{xy} & \\sigma_{yy} & \\tau_{yz} \\\\ \\tau_{xz} & \\tau_{yz} & \\sigma_{zz}\\end{bmatrix}\\\\)\n",
    "\n",
    "is that now we can easily use software to compute the principal stresses.\n",
    "\n",
    "What are the principal stresses?\n",
    "\n",
    "When changing the coordinate system (rotating the cube), it is always possible to find a particular rotation in which all the shear stresses vanish.  This idea is shown in the following figure:\n",
    "\n",
    "<img src=\"images/principal stresses.png\" width=\"600\" />\n",
    "\n",
    "(Why is it always possible to rotate the coordinate system so all the shear stresses disappear?  Well, there's a theorem from Linear Algebra that states that a symmetric matrix has real eigenvalues and its eigenvectors form an orthonormal basis.  So, if you rotate your coordinate system so the eigenvectors are your axes \\\\(x'\\\\), \\\\(y'\\\\), and \\\\(z'\\\\), the shear stresses disappear!)\n",
    "\n",
    "In the rotated coordinate system, the stress tensor has the form\n",
    "\n",
    "\\\\(\\mathbf{\\sigma} = \\begin{bmatrix} \\sigma_{x'x'} & 0 & 0 \\\\ 0 & \\sigma_{y'y'} & 0 \\\\ 0 & 0 & \\sigma_{z'z'}\\end{bmatrix}\\\\)\n",
    "\n",
    "When a matrix has been diagonalized like this, its eigenvalues are the diagonal elements.  Since the eigenvalues are real numbers, we can put them in order and just call the largest one \\\\(\\sigma_1\\\\) and the smallest one \\\\(\\sigma_3\\\\).  Thus, \\\\(\\sigma_1 \\geq \\sigma_2 \\geq \\sigma_3\\\\)."
   ]
  },
  {
   "cell_type": "markdown",
   "metadata": {},
   "source": [
    "In Python, specifically [numpy](https://docs.scipy.org/doc/numpy/index.html), it's relatively easy to compute the principal stresses from any stress state, as follows:"
   ]
  },
  {
   "cell_type": "code",
   "execution_count": null,
   "metadata": {},
   "outputs": [],
   "source": [
    "import numpy as np"
   ]
  },
  {
   "cell_type": "code",
   "execution_count": null,
   "metadata": {},
   "outputs": [],
   "source": [
    "# stress components at the given point\n",
    "sigma_x = 107.4\n",
    "sigma_y = 0\n",
    "sigma_z = 0\n",
    "tau_xy = -52.5\n",
    "tau_xz = 0\n",
    "tau_yz = 0\n",
    "\n",
    "sigma = np.array([[sigma_x, tau_xy, tau_xz], [tau_xy, sigma_y, tau_yz], [tau_xz, tau_yz, sigma_z]])  # stress tensor\n",
    "principal_stresses = np.linalg.eigh(sigma)[0]   # outputs eigenvalues in ascending order\n",
    "print('Sigma_1 =',principal_stresses[2])\n",
    "print('Sigma_2 =',principal_stresses[1])\n",
    "print('Sigma_3 =',principal_stresses[0])"
   ]
  },
  {
   "cell_type": "markdown",
   "metadata": {},
   "source": [
    "Specifically, we use the function [numpy.linalg.eigh](https://docs.scipy.org/doc/numpy/reference/generated/numpy.linalg.eigh.html), which is optimized for symmetric matrices."
   ]
  },
  {
   "cell_type": "markdown",
   "metadata": {},
   "source": [
    "<a id='mss'></a>\n",
    "\n",
    "### Maximum Shear Stress theory\n",
    "\n",
    "The <strong>Maximum Shear Stress (MSS) theory</strong> states that yielding in ductile matierals occurs when the maximum shear stress at any point exceeds the shear stress at which the same material would yield in a tensile test.  This theory is backed by numerous experiments that show ductile materials yielding in the direction of maximum shear.\n",
    "\n",
    "During a tensile test, the maximum shear stress in the specimen is related to the normal stress by\n",
    "\n",
    "\\\\(\\tau_{max} = \\dfrac{\\sigma}{2}\\\\)\n",
    "\n",
    "Thus, according to MSS theory, failure will occur if\n",
    "\n",
    "\\\\(\\tau_{max} \\geq \\dfrac{S_y}{2}\\\\)\n",
    "\n",
    "where \\\\(S_y\\\\) is the yield strength (stress at the onset of yielding) of the material.\n",
    "\n",
    "Under a general loading condition, the maximum shear stress is\n",
    "\n",
    "\\\\(\\tau_{max} = \\dfrac{\\sigma_1 - \\sigma_3}{2}\\\\)\n",
    "\n",
    "Subtracting the smallest principle stress from the largest gives us the most conservative estimate of the actual stress in the material (meaning the actual stress is lower than this estimate); this is desirable for failure theories because you never want to underestimate the stress the material is under.\n",
    "\n",
    "Putting the last two equations together gives\n",
    "\n",
    "\\\\( \\sigma_1 - \\sigma_3 \\geq S_y\\\\)"
   ]
  },
  {
   "cell_type": "markdown",
   "metadata": {},
   "source": [
    "Let's try the following example from lecture:\n",
    "\n",
    "$\\sigma_x$ = 18,100 psi.\n",
    "\n",
    "$\\tau_{xz}$ = 12,100 psi.\n",
    "\n",
    "$S_y$ = 47,000 psi."
   ]
  },
  {
   "cell_type": "code",
   "execution_count": null,
   "metadata": {},
   "outputs": [],
   "source": [
    "# stress components at the given point [kpsi]\n",
    "sigma_x = 18.1\n",
    "sigma_y = 0\n",
    "sigma_z = 0\n",
    "tau_xy = 12.1\n",
    "tau_xz = 0\n",
    "tau_yz = 0\n",
    "\n",
    "S_y = 47          # yield strength [kpsi]\n",
    "\n",
    "sigma = np.array([[sigma_x, tau_xy, tau_xz], [tau_xy, sigma_y, tau_yz], [tau_xz, tau_yz, sigma_z]])  # stress tensor\n",
    "principal_stresses = np.linalg.eigh(sigma)[0]   # outputs eigenvalues in ascending order\n",
    "\n",
    "# reverse order for principal stresses\n",
    "sigma_1 = principal_stresses[2]\n",
    "sigma_2 = principal_stresses[1]\n",
    "sigma_3 = principal_stresses[0]\n",
    "\n",
    "print('Principal stresses:',principal_stresses)\n",
    "\n",
    "# MSS test\n",
    "max_stress = sigma_1 - sigma_3\n",
    "if max_stress >= S_y:\n",
    "    print('MSS theory predicts failure')\n",
    "else:\n",
    "    n = S_y/max_stress\n",
    "    print('MSS factor of safety = ',n)"
   ]
  },
  {
   "cell_type": "markdown",
   "metadata": {},
   "source": [
    "<a id='de'></a>\n",
    "\n",
    "### Distortion Energy theory\n",
    "\n",
    "The <strong>Distortion Energy (DE) theory</strong> states that yielding in ductile matierals occurs when the distortion energy (the potential energy generated by distorting the material, think stretching a spring) per unit volume exceeds the distortion energy per unit volume at which the same material would yield in a tensile test.  This theory is supported by the observation that matierals are very resistant to yielding under hydrostatic pressure (equal pressure on all sides), which does not cause distortion.\n",
    "\n",
    "In the principal coordinate system, the principle stresses are \\\\(\\sigma_1\\\\), \\\\(\\sigma_2\\\\), and \\\\(\\sigma_3\\\\) (there are no shear stresses).  The strains in this coordinate system are \\\\(\\epsilon_1\\\\), \\\\(\\epsilon_2\\\\), and \\\\(\\epsilon_3\\\\) (there are no shear strains).\n",
    "\n",
    "Thus, the strain energy per unit volume is\n",
    "\n",
    "\\\\(u = \\dfrac{1}{2E}[\\epsilon_1 \\sigma_1 + \\epsilon_2 \\sigma_2 + \\epsilon_3 \\sigma_3] = \\dfrac{1}{2E}[\\sigma_1^2 + \\sigma_2^2 + \\sigma_3^2 - 2 \\nu (\\sigma_1 \\sigma_2 + \\sigma_2 \\sigma_3 + \\sigma_3 \\sigma_1)]\\\\)\n",
    "\n",
    "where \\\\(E\\\\) is the Young's modulus and \\\\(\\nu\\\\) is the Poisson's ratio of the material.\n",
    "\n",
    "In a hydrostatic stress state, each normal stress is the same and equal to the average stress:\n",
    "\n",
    "\\\\(\\sigma_1 = \\sigma_2 = \\sigma_3 = \\sigma_{av} = \\dfrac{\\sigma_1 + \\sigma_2 + \\sigma_3}{3}\\\\)\n",
    "\n",
    "The strain energy per unit volume in a hydrostatic state \\\\(u_v\\\\) is thus\n",
    "\n",
    "\\\\(u_v = \\dfrac{3 \\sigma_{av}^2}{2E}(1 - 2 \\nu) = \\dfrac{1 - 2 \\nu}{6E}(\\sigma_1^2 + \\sigma_2^2 + \\sigma_3^2 + 2 \\sigma_1 \\sigma_2 + 2 \\sigma_2 \\sigma_3 + 2 \\sigma_3 \\sigma_1)\\\\)\n",
    "\n",
    "Therefore, the distortion strain energy \\\\(u_d = u - u_v\\\\) is given by\n",
    "\n",
    "\\\\(u_d = \\dfrac{1 + \\nu}{3E} \\left[ \\dfrac{(\\sigma_1 - \\sigma_2)^2 + (\\sigma_2 - \\sigma_3)^2 + (\\sigma_3 - \\sigma_1)^2}{2} \\right]\\\\)\n",
    "\n",
    "In a tensile test at yield, \\\\(\\sigma_1 = S_y\\\\) and \\\\(\\sigma_2 = \\sigma_3 = 0\\\\).  Substituting these into the previous equation gives\n",
    "\n",
    "\\\\(u_d = \\dfrac{1 + \\nu}{3E} S_y^2\\\\)\n",
    "\n",
    "Comparing the last two equations, the DE theory states that yielding occurs when\n",
    "\n",
    "\\\\(\\dfrac{(\\sigma_1 - \\sigma_2)^2 + (\\sigma_2 - \\sigma_3)^2 + (\\sigma_3 - \\sigma_1)^2}{2} \\geq S_y^2\\\\)\n",
    "\n",
    "With this condition in mind, the von Mises stress \\\\(\\sigma'\\\\) can be defined as\n",
    "\n",
    "\\\\(\\sigma' = \\sqrt{\\dfrac{(\\sigma_1 - \\sigma_2)^2 + (\\sigma_2 - \\sigma_3)^2 + (\\sigma_3 - \\sigma_1)^2}{2}}\\\\)\n",
    "\n",
    "Then, the DE condition becomes\n",
    "\n",
    "\\\\(\\sigma' \\geq S_y\\\\)"
   ]
  },
  {
   "cell_type": "markdown",
   "metadata": {},
   "source": [
    "Let's try the same example from lecture but use the DE theory this time:\n",
    "\n",
    "$\\sigma_x$ = 18,100 psi.\n",
    "\n",
    "$\\tau_{xz}$ = 12,100 psi.\n",
    "\n",
    "$S_y$ = 47,000 psi."
   ]
  },
  {
   "cell_type": "code",
   "execution_count": null,
   "metadata": {},
   "outputs": [],
   "source": [
    "# stress components at the given point [kpsi]\n",
    "sigma_x = 18.1\n",
    "sigma_y = 0\n",
    "sigma_z = 0\n",
    "tau_xy = 12.1\n",
    "tau_xz = 0\n",
    "tau_yz = 0\n",
    "\n",
    "S_y = 47          # yield strength [kpsi]\n",
    "\n",
    "sigma = np.array([[sigma_x, tau_xy, tau_xz], [tau_xy, sigma_y, tau_yz], [tau_xz, tau_yz, sigma_z]])  # stress tensor\n",
    "principal_stresses = np.linalg.eigh(sigma)[0]   # outputs eigenvalues in ascending order\n",
    "\n",
    "# reverse order for principal stresses\n",
    "sigma_1 = principal_stresses[2]\n",
    "sigma_2 = principal_stresses[1]\n",
    "sigma_3 = principal_stresses[0]\n",
    "\n",
    "print('Principal stresses:',principal_stresses)\n",
    "\n",
    "# DE test\n",
    "vonMises = np.sqrt(((sigma_1-sigma_2)**2 + (sigma_2-sigma_3)**2 + (sigma_3-sigma_1)**2)/2) # von Mises stress\n",
    "if vonMises >= S_y:\n",
    "    print('DE theory predicts failure')\n",
    "else:\n",
    "    n = S_y/vonMises\n",
    "    print('DE factor of safety = ',n)\n",
    "    "
   ]
  },
  {
   "cell_type": "markdown",
   "metadata": {},
   "source": [
    "<a id='dcm'></a>\n",
    "\n",
    "### Ductile Coulomb-Mohr theory\n",
    "\n",
    "The <strong>Ductile Coulomb-Mohr (DCM) theory</strong> states that yielding in ductile matierals occurs when the Mohr's circle crosses the yield failure envelope based on uniaxial tensile and compressive tests.  This theory provides more accurate failure predictions for materials that have grossly different tensile and compressive strengths.  This theory directly extends MSS theory to materials with these different strengths.\n",
    "\n",
    "The yield failure envelope is described by the following figure:\n",
    "\n",
    "<img src=\"images/DCM yield failure envelope.png\" width=\"600\" />\n",
    "\n",
    "where you can see that it is defined as the lines of common tangency with both the uniaxial tensile and compressive yield circles.  $S_t$ is defined as the tensile yield strength, and $S_c$ is defined as the compressive yield strength.  Note that both strengths are positive numbers.\n",
    "\n",
    "A uniaxial tensile stress case touches these lines when\n",
    "\n",
    "$\\dfrac{\\sigma_1}{S_t} = 1$\n",
    "\n",
    "A uniaxial compressive stress case touches these lines when\n",
    "\n",
    "$-\\dfrac{\\sigma_3}{S_c} = 1$\n",
    "\n",
    "Combining these cases linearly (since the failure envelope is linear) gives, in general,\n",
    "\n",
    "$\\dfrac{\\sigma_1}{S_t} - \\dfrac{\\sigma_3}{S_c} = 1$"
   ]
  },
  {
   "cell_type": "markdown",
   "metadata": {},
   "source": [
    "Let's try the following example from lecture:\n",
    "\n",
    "$\\sigma_x$ = 32,000 psi.\n",
    "\n",
    "$S_t$ = 45,000 psi.\n",
    "\n",
    "$S_c$ = 138,000 psi."
   ]
  },
  {
   "cell_type": "code",
   "execution_count": null,
   "metadata": {},
   "outputs": [],
   "source": [
    "# stress components at the given point [kpsi]\n",
    "sigma_x = 32\n",
    "sigma_y = 0\n",
    "sigma_z = 0\n",
    "tau_xy = 0\n",
    "tau_xz = 0\n",
    "tau_yz = 0\n",
    "\n",
    "S_t = 45          # yield strength in tension [kpsi]\n",
    "S_c = 138         # yield strength in compression [kpsi]\n",
    "\n",
    "sigma = np.array([[sigma_x, tau_xy, tau_xz],\n",
    "                  [tau_xy, sigma_y, tau_yz],\n",
    "                  [tau_xz, tau_yz, sigma_z]])   # stress tensor\n",
    "principal_stresses = np.linalg.eigh(sigma)[0]   # outputs eigenvalues in ascending order\n",
    "\n",
    "# reverse order for principal stresses\n",
    "sigma_1 = principal_stresses[2]\n",
    "sigma_2 = principal_stresses[1]\n",
    "sigma_3 = principal_stresses[0]\n",
    "\n",
    "print('Principal stresses:',principal_stresses)\n",
    "\n",
    "# DCM test\n",
    "DCM_criterion = sigma_1/S_t - sigma_3/S_c\n",
    "if DCM_criterion >= 1:\n",
    "    print('DCM theory predicts failure')\n",
    "else:\n",
    "    n = 1/DCM_criterion\n",
    "    print('DCM factor of safety = ',n)"
   ]
  }
 ],
 "metadata": {
  "kernelspec": {
   "display_name": "Python 3",
   "language": "python",
   "name": "python3"
  },
  "language_info": {
   "codemirror_mode": {
    "name": "ipython",
    "version": 3
   },
   "file_extension": ".py",
   "mimetype": "text/x-python",
   "name": "python",
   "nbconvert_exporter": "python",
   "pygments_lexer": "ipython3",
   "version": "3.8.3"
  }
 },
 "nbformat": 4,
 "nbformat_minor": 2
}
