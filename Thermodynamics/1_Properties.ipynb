{
 "cells": [
  {
   "cell_type": "markdown",
   "metadata": {},
   "source": [
    "###### Content under Creative Commons Attribution license CC-BY 4.0, code under BSD 3-Clause License © 2020 Adam Wickenheiser"
   ]
  },
  {
   "cell_type": "markdown",
   "metadata": {},
   "source": [
    "# Accessing Thermodynamic Properties"
   ]
  },
  {
   "cell_type": "markdown",
   "metadata": {},
   "source": [
    "This is the first in a series of lessons on using Python for undergraduate Thermodynamics.\n",
    "\n",
    "Thermodynamics is the study of how energy is transferred between different forms of matter.  Engineers use Thermodynamics to design systems and processes that produce something useful - for example, electrical energy or heat - in the most efficient way possible.  Nuclear power plants, air conditioners, and your car's engine are all examples of thermodynamic processes that produce energy that we use in our everyday lives.\n",
    "\n",
    "During the course of these lessons, we will study several *cumulative design examples*, each motivated by a specific need.  For example:\n",
    "\n",
    "1. How do you design an efficient system for keeping your house at room temperature when the outdoor temperature fluctuates?\n",
    "1. How do you efficiently convert the heat produced by burning fossil fuels into useable electricity and/or mechanical work?\n",
    "\n",
    "Notice that in each scenario, we are interested in efficiency.  There are many designs capable of doing either task, but for the sake of the environment (and the almighty dollar), we want to reduce the amount of waste as much as possible.\n",
    "\n",
    "The following figure shows a typical system studied in Thermodynamics:\n",
    "\n",
    "<img src=\"https://github.com/AdaWick/CDS/blob/master/Thermodynamics/images/vapor%20cycle.png?raw=true\" width=\"500\">\n",
    "\n",
    "Starting in the lower left corner, liquid water is pumped up to high pressure, where it can be boiled very efficiently.  The steam that is produced is used to drive a turbine (a series of fan blades) that can be used to make electricity.  The steam is condensed back to liquid water by cooling it using cold river water.  The liquid water is then pumped again, repeating the cycle.\n",
    "\n",
    "It turns out that is is much easier to pump liquid water than steam, so more energy is produced by the turbine than used by the pump, thus producing net energy.  The heat needed to boil the water comes from burning fossil fuels, nuclear fission, or solar heating, just to name a few.\n",
    "\n",
    "We will refer to this diagram many times throughout these lessons.  It shows in a very general setting how heat in and out can be transformed into work in and out.  Air conditioners, nuclear power plants, and car engines all have these features in common; only the details vary.\n",
    "\n",
    "The first step to designing a thermodynamic system is to be able to determine how energy is stored in various substances, like gasoline, refrigerants, and pressurized steam, and what processes can best extract this energy."
   ]
  },
  {
   "cell_type": "markdown",
   "metadata": {},
   "source": [
    "## Learning objectives:\n",
    "\n",
    "1. To be able to get and set thermodynamic properties of substances for use in design and analysis\n",
    "1. To be able to plot property diagrams including phase change\n",
    "1. To be able to plot a thermodynamic process on a property diagram including constant property contours"
   ]
  },
  {
   "cell_type": "markdown",
   "metadata": {},
   "source": [
    "## Contents:\n",
    "\n",
    "1. [Introduction to Cantera: Getting and Setting Thermodynamic Properties](#intro)\n",
    "1. [Property Diagrams](#propdiag)\n",
    "1. [Saturated Liquid-vapor Mixtures](#sat)\n",
    "1. [Plotting a Thermodynamic Process on a Property Diagram](#plotprocess)\n",
    "1. [Determining Phase from Therodynamic State](#phasestate)"
   ]
  },
  {
   "cell_type": "markdown",
   "metadata": {},
   "source": [
    "<a id='intro'></a>\n",
    "\n",
    "### Introduction to Cantera: Getting and Setting Thermodynamic Properties\n",
    "**Thermodynamic properties** are any characteristics or parameters used to describe a substance.\n",
    "\n",
    "Examples of familiar properties are Temperature $T$, Pressure $P$, mass $m$, volume $V$, and density $\\rho$.  Properties that scale in proportion to mass are called extensive.  Those that do not change if mass is changed are called **intensive**.\n",
    "\n",
    "One way to visualize the difference between extensive and intensive properties is to imaging a block of matter with uniform properties (every spatial point in the block looks the same).  If the block is cut in half, which properties are also cut in half, and which ones remain the same?  The following figure shows some examples:\n",
    "\n",
    "<img src=\"../images/extensive vs intensive.png\" width=\"500\">\n",
    "\n",
    "Clearly, if you cut the block in half, each half will have half the mass and volume of the original.  Thus, *mass and volume are extensive properties*.  However, this means the *density* of the two pieces remains unchanged, since density is the ratio of mass and volume:\n",
    "\n",
    "$\\rho = \\dfrac{m}{V} = \\dfrac{\\frac{1}{2}m}{\\frac{1}{2}V}$\n",
    "\n",
    "Thus, *density is an intensive property*.\n",
    "\n",
    "Temperature and pressure are related to the average kinetic energy and momentum of the particles that make up the block.  Since these are averages, and the left half of the block is the same as the right half, they must also be the same within each half.  Therefore, *temperature and pressure are also intensive properties*."
   ]
  },
  {
   "cell_type": "markdown",
   "metadata": {},
   "source": [
    "First let's import the libraries we will need for this lesson:"
   ]
  },
  {
   "cell_type": "code",
   "execution_count": 1,
   "metadata": {},
   "outputs": [],
   "source": [
    "import numpy as np\n",
    "import matplotlib.pyplot as plt\n",
    "import cantera as ct"
   ]
  },
  {
   "cell_type": "markdown",
   "metadata": {},
   "source": [
    "Let's first look at a substance we are all familiar with: water!\n",
    "\n",
    "To work with water, we need to create a water object, whose properties like temperature and pressure we can then manipulate."
   ]
  },
  {
   "cell_type": "code",
   "execution_count": 2,
   "metadata": {},
   "outputs": [],
   "source": [
    "w = ct.Water()         # create a 'water' object whose properties we can set and get"
   ]
  },
  {
   "cell_type": "markdown",
   "metadata": {},
   "source": [
    "Let's see what happens to the density of water as its temperature increases while at atmospheric pressure.  It turns out that the state of a pure single-phase substance (e.g. solid, liquid, or gas) can be determined by setting two properties.\n",
    "\n",
    "So, let's set the pressure and temperature of our water sample:"
   ]
  },
  {
   "cell_type": "code",
   "execution_count": 3,
   "metadata": {},
   "outputs": [
    {
     "name": "stdout",
     "output_type": "stream",
     "text": [
      "Temperature = 288.15 K\n",
      "Pressure = 101324.99997922359 Pa\n",
      "Density = 999.1296875105779 kg/m^3\n"
     ]
    }
   ],
   "source": [
    "# standard atmospheric temperature and pressure\n",
    "P_atm = 101325.0      # pressure in pascals [Pa]\n",
    "T_atm = 15 + 273.15   # convert 15 C to K\n",
    "\n",
    "w.TP = T_atm, P_atm    # set temperature and pressure\n",
    "\n",
    "# print the temperature, pressure, and specific volume\n",
    "print('Temperature =',w.T,'K')\n",
    "print('Pressure =',w.P,'Pa')\n",
    "print('Density =',w.density,'kg/m^3')"
   ]
  },
  {
   "cell_type": "markdown",
   "metadata": {},
   "source": [
    "Let's take a look at the functions that were used in this code block.\n",
    "\n",
    "The first is `w.TP`, which we use to set the temperature and pressure, respectively (hence the name \"TP\").  [Lots of combinations](https://cantera.org/documentation/docs-2.4/sphinx/html/cython/thermo.html#purefluid) of parameters can be set to establish the thermodynamic state of the stubstance.\n",
    "\n",
    "Then we call `w.T`, `w.P`, and `w.density` to get the current temperature, pressure, and density of the substance.  Notice that the first two are just echoing the values we set.  The third, density, is determined once you set the pressure and temperature.\n",
    "\n",
    "In the study of Thermodynamics, it is more commont to state the **specific volume** of a substance, rather than its density.  Specific volume is the volume of the substance on a per-mass basis; therefore, it is the inverse of density:\n",
    "\n",
    "$v = \\dfrac{1}{\\rho}$\n",
    "\n",
    "We can get the specific volume using the function `w.v`, and show it is indeed equal to the inverse of density:"
   ]
  },
  {
   "cell_type": "code",
   "execution_count": 4,
   "metadata": {},
   "outputs": [
    {
     "name": "stdout",
     "output_type": "stream",
     "text": [
      "Specific volume = 0.0010008710705930383 m^3/kg\n",
      "Inverse of density = 0.0010008710705930383 m^3/kg\n"
     ]
    }
   ],
   "source": [
    "print('Specific volume =',w.v,'m^3/kg')\n",
    "print('Inverse of density =',1/w.density,'m^3/kg')"
   ]
  },
  {
   "cell_type": "markdown",
   "metadata": {},
   "source": [
    "Water boils at $100 ^\\circ C$ under standard atmospheric pressure.  As it transitions into the gas phase, its specific volume increases dramatically from what it was as a solid.  Let's verify this as we look at temperatures slightly below and above the boiling point."
   ]
  },
  {
   "cell_type": "code",
   "execution_count": 5,
   "metadata": {},
   "outputs": [
    {
     "name": "stdout",
     "output_type": "stream",
     "text": [
      "Temperature = 372.15 K\n",
      "Specific volume = 0.001042731333589953 m^3/kg\n",
      "\n",
      "\n",
      "Temperature = 374.15 K\n",
      "Specific volume = 1.6781295001760954 m^3/kg\n"
     ]
    }
   ],
   "source": [
    "# set the temperature of water to 99 C, 1 atmosphere\n",
    "T = 99 + 273.15\n",
    "w.TP = T, P_atm\n",
    "print('Temperature =',w.T,'K')\n",
    "print('Specific volume =',w.v,'m^3/kg')\n",
    "print('\\n')    # print a blank line\n",
    "\n",
    "# set the temperature of water to 101 C, 1 atmosphere\n",
    "T = 101 + 273.15\n",
    "w.TP = T, P_atm\n",
    "print('Temperature =',w.T,'K')\n",
    "print('Specific volume =',w.v,'m^3/kg')"
   ]
  },
  {
   "cell_type": "markdown",
   "metadata": {},
   "source": [
    "Check out the huge change in specifc volume, about a factor of 1000!  This change means that the volume of a fixed amount of water increases by a factor of 1000 when it changes from liquid to vapor.  This is evidence that indeed a phase change occured from liquid to gas between $T=99 ^\\circ C$ and $T=101 ^\\circ C$."
   ]
  },
  {
   "cell_type": "markdown",
   "metadata": {},
   "source": [
    "#### Try it!\n",
    "\n",
    "Look up the boiling point of methane (under atmospheric pressure), and repeat the previous experiment to determine the specific volume of methane just below and just above the boiling point.  Use the function `ct.Methane()` to create a methane object.  You should see a dramatic increase in specific volume after boiling!"
   ]
  },
  {
   "cell_type": "code",
   "execution_count": 6,
   "metadata": {},
   "outputs": [
    {
     "name": "stdout",
     "output_type": "stream",
     "text": [
      "Temperature = 111.14999999999998 K\n",
      "Specific volume = 0.0023621953912813863 m^3/kg\n",
      "\n",
      "\n",
      "Temperature = 112.14999999999998 K\n",
      "Specific volume = 0.5535816675478146 m^3/kg\n"
     ]
    }
   ],
   "source": [
    "m = ct.Methane()\n",
    "\n",
    "# set the temperature of water to 99 C, 1 atmosphere\n",
    "T = -162 + 273.15\n",
    "m.TP = T, P_atm\n",
    "print('Temperature =',m.T,'K')\n",
    "print('Specific volume =',m.v,'m^3/kg')\n",
    "print('\\n')    # print a blank line\n",
    "\n",
    "# set the temperature of water to 101 C, 1 atmosphere\n",
    "T = -161 + 273.15\n",
    "m.TP = T, P_atm\n",
    "print('Temperature =',m.T,'K')\n",
    "print('Specific volume =',m.v,'m^3/kg')"
   ]
  },
  {
   "cell_type": "markdown",
   "metadata": {},
   "source": [
    "<a id='propdiag'></a>\n",
    "\n",
    "### Property Diagrams\n",
    "\n",
    "**Property diagrams** are graphs of two of a substance's thermodynamic properties plotted against each other.  Commonly used property diagrams are Temperature vs. Specific Volume and Pressure vs. Specific Volume (we will see some different ones later!).\n",
    "\n",
    "We will first create a **T-v diagram**, which plots temperature on the vertical axis and specific volume on the horizontal.  Because specific volume ranges over several orders of magnitude before and after boiling, we will use a log scale on the horizontal axis: this is accomplished using the [matplotlib.pyplot.semilogx](https://matplotlib.org/3.1.0/api/_as_gen/matplotlib.pyplot.semilogx.html) function."
   ]
  },
  {
   "cell_type": "code",
   "execution_count": 7,
   "metadata": {},
   "outputs": [
    {
     "data": {
      "image/png": "[encoded data removed]",
      "text/plain": [
       "<Figure size 432x288 with 1 Axes>"
      ]
     },
     "metadata": {
      "needs_background": "light"
     },
     "output_type": "display_data"
    }
   ],
   "source": [
    "T_array = np.linspace(15,150) + 273.15    # temperature range: 15-150 deg. C, converted to K\n",
    "v_array = np.zeros_like(T_array)          # create an array of 0s to store the specific volumes at each temperature\n",
    "\n",
    "for i in range(T_array.size):\n",
    "    w.TP = T_array[i], P_atm     # set the temperature and pressure\n",
    "    v_array[i] = w.v             # get the specific volume at this temperature and pressure\n",
    "\n",
    "plt.semilogx(v_array,T_array-273.15)\n",
    "plt.ylabel('Temperature [$^\\circ C$]')\n",
    "plt.xlabel('Specific volume [$m^3/s$]')\n",
    "plt.annotate('Compressed Liquid',(1e-3,60),(4e-3,40),arrowprops=dict(arrowstyle='->'))\n",
    "plt.annotate('Saturated Liquid-Vapor Mixture',(4e-2,100),(5e-2,80),arrowprops=dict(arrowstyle='->'))\n",
    "plt.annotate('Superheated Vapor',(1.75e0,125),(6e-2,130),arrowprops=dict(arrowstyle='->'));"
   ]
  },
  {
   "cell_type": "markdown",
   "metadata": {},
   "source": [
    "The \"stepped\" shape of this plot indicates two things:\n",
    "* The specific volume of water is relatively constant below $T = 100 ^\\circ C$ (when it is a liquid), and increases linearly with temperature above $T = 100 ^\\circ C$ (when it is a gas)\n",
    "* A huge jump in specific volume occurs during the phase change around $T = 100 ^\\circ C$\n",
    "\n",
    "The labels in the diagram indicate the different phases that occur during the boiling process.  First, the water starts as a pure liquid known as a **compressed liquid**.  The word \"compressed\" indicates that the volume of the liquid is slightly less than its volume when boiling starts, although this is hard to see in the plot.\n",
    "\n",
    "After boiling, the vapor expands as its temperature increases.  In this state, the water is known as a **superheated vapor**, indicating that it has been heated beyond complete evaporation."
   ]
  },
  {
   "cell_type": "markdown",
   "metadata": {},
   "source": [
    "Let's see what happens when we perform this experiment at a different pressure.  At the top of [Pikes Peak](https://en.wikipedia.org/wiki/Pikes_Peak), the atmospheric pressure is about 60% its value at sea level.\n",
    "\n",
    "In the following example, we create a 2-D numpy array, where each column is a different pressure, and each row is a different temperature.  (The function [matplotlib.pyplot.plot](https://matplotlib.org/3.1.0/api/_as_gen/matplotlib.pyplot.plot.html) treats each column as a separate line to draw, which is why we are setting up our 2-D data array this way.)"
   ]
  },
  {
   "cell_type": "code",
   "execution_count": 8,
   "metadata": {},
   "outputs": [
    {
     "data": {
      "image/png": "[encoded data removed]",
      "text/plain": [
       "<Figure size 432x288 with 1 Axes>"
      ]
     },
     "metadata": {
      "needs_background": "light"
     },
     "output_type": "display_data"
    }
   ],
   "source": [
    "P_array = np.array([P_atm, 0.6*P_atm])            # array of two pressures [Pa]\n",
    "T_array = np.linspace(15,150) + 273.15            # temperature range: 15-150 deg. C, converted to K\n",
    "v_array = np.zeros((T_array.size,P_array.size))   # create an array of 0s to store the specific volumes at each temperature\n",
    "\n",
    "for i in range(T_array.size):\n",
    "    for j in range(P_array.size):\n",
    "        w.TP = T_array[i], P_array[j]\n",
    "        v_array[i,j] = w.v\n",
    "\n",
    "plt.semilogx(v_array,T_array-273.15)\n",
    "plt.ylabel('Temperature [$^\\circ C$]')\n",
    "plt.xlabel('Specific volume [$m^3/s$]')\n",
    "plt.legend(['Sea level','Pikes Peak']);"
   ]
  },
  {
   "cell_type": "markdown",
   "metadata": {},
   "source": [
    "Some observations about this plot:\n",
    "* The boiling temperature of water at the top of Pikes Peak is about $85 ^\\circ C$; this is why it takes much longer to cook food in boiling water at high altitudes!\n",
    "* Once the water changes into a gas, its specific volume is much larger at the lower pressure.  If you inflate a balloon, then take it to the top of a mountain, you may be in for a bang!"
   ]
  },
  {
   "cell_type": "markdown",
   "metadata": {},
   "source": [
    "<a id='sat'></a>\n",
    "\n",
    "### Saturated liquid-vapor mixtures\n",
    "\n",
    "When a substance, like water, is in the process of boiling or vaporizing, there is a mixture of liquid and vapor occuring simultaneously.  When the boiling starts, the water is 100% liquid, and when it ends, it is 100% vapor.  However, during the process, there is a definable quantity of both.\n",
    "\n",
    "This property is called the **quality** $x$ of the liquid-vapor mixture.  It is defined by\n",
    "\n",
    "$x = \\dfrac{m_{vapor}}{m_{total}}$\n",
    "\n",
    "In words, it is the mass fraction of vapor to the total mass (vapor+liquid).  By this defintion $x=0$ when the substance is purely liquid (known as a saturated liquid), and $x=1$ when it is purely vapor (known as a saturated vapor), and $0<x<1$ when there is some of both.  Note that these terms saturated liquid and vapor only apply right at the onset or conclusion of boiling."
   ]
  },
  {
   "cell_type": "markdown",
   "metadata": {},
   "source": [
    "Let's re-plot the boiling curve at sea level, and add points at the beginning, middle, and end of boiling using the quality $x$.  Do find these points, we will use the function `w.PX`, which sets the pressure and quality.\n",
    "\n",
    "The temperature at which the phase change occurs is called the **saturation temperature**.  Note that it is a function of pressure: we saw previously that the saturation temperature is lower at the top of Pikes Peak, where the pressure is lower too.  To find the saturation temperature, we use the function `w.T_sat`."
   ]
  },
  {
   "cell_type": "code",
   "execution_count": 9,
   "metadata": {},
   "outputs": [
    {
     "data": {
      "image/png": "[encoded data removed]",
      "text/plain": [
       "<Figure size 432x288 with 1 Axes>"
      ]
     },
     "metadata": {
      "needs_background": "light"
     },
     "output_type": "display_data"
    }
   ],
   "source": [
    "w.TP = T_atm, P_atm   # first, set the pressure back to sea level (the temperature is irrelevant)\n",
    "Tsat = w.T_sat        # saturation temperature at this pressure [K]\n",
    "\n",
    "w.PX = P_atm, 0    # set the quality x = 0 to find the point when boiling starts (at sea level)\n",
    "vf = w.v           # the saturated liquid specific volume\n",
    "\n",
    "w.PX = P_atm, 0.5  # set the quality x = 0.5 to find the point when boiling is halfway done\n",
    "vhalf = w.v        # specific volume of the liquid-vapor mixture\n",
    "\n",
    "w.PX = P_atm, 1    # set the quality x = 1 to find the point when boiling ends\n",
    "vg = w.v           # the saturated vapor specific volume\n",
    "\n",
    "T_array = np.linspace(15,150) + 273.15    # temperature range: 15-150 deg. C, converted to K\n",
    "v_array = np.zeros_like(T_array)          # create an array of 0s to store the specific volumes at each temperature\n",
    "\n",
    "for i in range(T_array.size):\n",
    "    w.TP = T_array[i], P_atm\n",
    "    v_array[i] = w.v\n",
    "\n",
    "plt.semilogx(v_array,T_array-273.15,'b',[vf, vhalf, vg],[Tsat-273.15, Tsat-273.15, Tsat-273.15],'r*')\n",
    "plt.ylabel('Temperature [$^\\circ C$]')\n",
    "plt.xlabel('Specific volume [$m^3/s$]');"
   ]
  },
  {
   "cell_type": "markdown",
   "metadata": {},
   "source": [
    "The star on the left represents the very onset of boiling at this pressure.  This is called a **saturated liquid** state.  Thermodynamic properties in this state are usually denoted with a subscript 'f' for fluid.  Hence, the specific volume at this state is denoted $v_f$.\n",
    "\n",
    "The star on the right represents the completion of boiling at this pressure.  This is called a **saturated vapor** state.  Thermodynamic properties in this state are usually denoted with a subscript 'g' for gas.  Hence, the specific volume at this state is denoted $v_g$.\n",
    "\n",
    "Note that the middle star does not occur halfway between the other two stars.  Remember that this middle star represents the point at which half the mass is liquid and half is vapor.  The overall density of the liquid+vapor at this point is closer to the density of the pure vapor because the liquid does not take up nearly as much volume, so overall the density is very low.  Hence, the specific volume, which is just the inverse of density, is close to its pure vapor value."
   ]
  },
  {
   "cell_type": "markdown",
   "metadata": {},
   "source": [
    "Let's repeat this process for several different pressures.  We've tried $p = p_{atm}$ (sea level) and $p = 0.6p_{atm}$ (Pikes Peak).  Let's also try $p = 20p_{atm}$, which is what you might find in a high pressure vessel."
   ]
  },
  {
   "cell_type": "code",
   "execution_count": 10,
   "metadata": {},
   "outputs": [
    {
     "data": {
      "image/png": "[encoded data removed]",
      "text/plain": [
       "<Figure size 432x288 with 1 Axes>"
      ]
     },
     "metadata": {
      "needs_background": "light"
     },
     "output_type": "display_data"
    }
   ],
   "source": [
    "# first plot the constant pressure curves\n",
    "P_array = np.array([P_atm, 0.6*P_atm, 20*P_atm])    # array of pressures [Pa]\n",
    "T_array = np.linspace(15,350,301) + 273.15              # temperature range: 15-150 deg. C, converted to K\n",
    "v_array = np.zeros((T_array.size,P_array.size))     # create an array of 0s to store the specific volumes at each temperature\n",
    "\n",
    "for i in range(T_array.size):\n",
    "    for j in range(P_array.size):\n",
    "        w.TP = T_array[i], P_array[j]\n",
    "        v_array[i,j] = w.v\n",
    "        \n",
    "plt.semilogx(v_array,T_array-273.15)\n",
    "plt.ylabel('Temperature [$^\\circ C$]')\n",
    "plt.xlabel('Specific volume [$m^3/s$]')\n",
    "plt.legend(['Sea level','Pikes Peak','Pressure vessel'])\n",
    "\n",
    "\n",
    "# now compute the saturated liquid and vapor states at each pressure\n",
    "for j in range(P_array.size):\n",
    "    w.TP = T_atm, P_array[j]   # set the pressure (the temperature is irrelevant)\n",
    "    Tsat = w.T_sat    # saturation temperature at this pressure [K]\n",
    "    \n",
    "    w.PX = P_array[j], 0       # set the quality x = 0 to find the point when boiling starts (at sea level)\n",
    "    vf = w.v          # the saturated liquid specific volume\n",
    "\n",
    "    w.PX = P_array[j], 0.5     # set the quality x = 0.5 to find the point when boiling is halfway done\n",
    "    vhalf = w.v       # specific volume of the liquid-vapor mixture\n",
    "\n",
    "    w.PX = P_array[j], 1       # set the quality x = 1 to find the point when boiling ends\n",
    "    vg = w.v          # the saturated vapor specific volume\n",
    "\n",
    "    plt.semilogx([vf, vhalf, vg],np.full((3,),Tsat)-273.15,'r*');\n",
    "    "
   ]
  },
  {
   "cell_type": "markdown",
   "metadata": {},
   "source": [
    "Notice that as pressure increases, the difference in specific volume between liquid and vapor decreases.  At some very high pressures, the difference between a liquid and a vapor vanishes!\n",
    "\n",
    "Every substance has a point above which the difference between liquids and vapors vanishes; this point is called the **critical point**.  Using the functions `w.critical_temperature` and `w.critical_density`, we can find the critical temperature and specific volume of water."
   ]
  },
  {
   "cell_type": "code",
   "execution_count": 11,
   "metadata": {},
   "outputs": [
    {
     "name": "stdout",
     "output_type": "stream",
     "text": [
      "Critical temperature = 374.13599999999997 C\n",
      "Critical specific volume = 0.0031545741324921135 m^3/kg\n"
     ]
    }
   ],
   "source": [
    "Tcrit = w.critical_temperature    # critical temperature [K]\n",
    "vcrit = 1/w.critical_density      # critical specific volume [m^3/kg]\n",
    "\n",
    "print('Critical temperature =',Tcrit-273.15,'C')\n",
    "print('Critical specific volume =',vcrit,'m^3/kg')"
   ]
  },
  {
   "cell_type": "markdown",
   "metadata": {},
   "source": [
    "Let's also plot curves of the liquid and vapor saturation states in a temperature range from $15 ^\\circ C$ up to the critical temperature.  (Remember that above the critical temperature, there is no phase change!)  These saturated liquid and vapor curves make up what's known as the **vapor dome**.\n",
    "\n",
    "We'll define a new function for plotting this vapor dome, since we're going to be making these plots many times."
   ]
  },
  {
   "cell_type": "code",
   "execution_count": 12,
   "metadata": {},
   "outputs": [],
   "source": [
    "def Tv_vapor_dome():\n",
    "    \n",
    "    w = ct.Water()\n",
    "    \n",
    "    # critical temperature and specific volume\n",
    "    Tcrit = w.critical_temperature    # critical temperature [K]\n",
    "    vcrit = 1/w.critical_density      # critical specific volume [m^3/kg]\n",
    "\n",
    "    # set up arrays for plotting saturated curves\n",
    "    T_array = np.linspace(15+273.15,0.9999*Tcrit)   # the temperature range must stop just before the critical point\n",
    "    vf_array = np.zeros_like(T_array)\n",
    "    vg_array = np.zeros_like(T_array)\n",
    "\n",
    "    # get saturated states for plotting\n",
    "    for i in range(T_array.size):\n",
    "        w.TX = T_array[i], 0        # saturated liquid (x = 0)\n",
    "        vf_array[i] = w.v\n",
    "    \n",
    "        w.TX = T_array[i], 1        # saturated vapor (x = 1)\n",
    "        vg_array[i] = w.v\n",
    "\n",
    "    # plot saturated curves and critical point\n",
    "    plt.semilogx(vf_array,T_array-273.15,'g',vg_array,T_array-273.15,'g',vcrit,Tcrit-273.15,'r*')\n",
    "    plt.ylabel('Temperature [$^\\circ C$]')\n",
    "    plt.xlabel('Specific volume [$m^3/kg$]')"
   ]
  },
  {
   "cell_type": "code",
   "execution_count": 13,
   "metadata": {},
   "outputs": [
    {
     "data": {
      "image/png": "[encoded data removed]",
      "text/plain": [
       "<Figure size 432x288 with 1 Axes>"
      ]
     },
     "metadata": {
      "needs_background": "light"
     },
     "output_type": "display_data"
    }
   ],
   "source": [
    "Tv_vapor_dome()\n",
    "plt.text(3e-4,200,'Compressed\\nLiquid',rotation=90)\n",
    "plt.text(2e-3,80,'Saturated Liquid-Vapor Mixture')\n",
    "plt.text(1e0,250,'Superheated Vapor')\n",
    "plt.annotate('Saturated Liquid',(1e-3,200),(5e-3,160),arrowprops=dict(arrowstyle='->'))\n",
    "plt.annotate('Saturated Vapor',(4e-1,150),(3e0,170),arrowprops=dict(arrowstyle='->'))\n",
    "plt.annotate('Critical Point',(vcrit,Tcrit-273.15),(1e-1,400),arrowprops=dict(arrowstyle='->'))\n",
    "plt.xlim((1e-4,1e2))\n",
    "plt.ylim((0,450));"
   ]
  },
  {
   "cell_type": "markdown",
   "metadata": {},
   "source": [
    "<a id='plotprocess'></a>\n",
    "\n",
    "### Plotting a Thermodynamic Process on a Property Diagram\n",
    "\n",
    "Let's look at some examples of thermodynamic processes (converting a substance from one state to another), and how we can plot the path of a process on a T-v diagram.\n",
    "\n",
    "**Example:** Water is stored inside a rigid tank with an initial temperature $T_1 = 500 ^\\circ C$ and pressure $P_1 = 2.0 MPa$.  The water is cooled until $T_2 = 150 ^\\circ C$.  Find the final pressure $P_2$ and plot this process on a T-v diagram.\n",
    "\n",
    "<img src=\"../images/ex water cooling.png\" width=\"200\">\n",
    "\n",
    "Because the process takes place in a rigid tank, the mass and volume of water remain constant throughout the process.  Therefore, the specific volume remains constant too.  We can write this as $v_1 = v_2$.  Let's summarize:\n",
    "\n",
    "**State 1:**  ***Known:*** $T_1,P_1$, ***Unknown:*** $v_1$\n",
    "\n",
    "**State 2:**  ***Known:*** $T_2,v_2$ (once we find $v_1$), ***Unknown:*** $P_2$\n",
    "\n",
    "Let's write some code to find $P_2$!"
   ]
  },
  {
   "cell_type": "code",
   "execution_count": 14,
   "metadata": {},
   "outputs": [
    {
     "name": "stdout",
     "output_type": "stream",
     "text": [
      "State 2 pressure = 475392.13234379754 Pa\n"
     ]
    }
   ],
   "source": [
    "# state 1\n",
    "T1 = 500 + 273.15      # temperature [K]\n",
    "P1 = 2.0e6             # pressure [Pa]\n",
    "state1 = ct.Water()    # create water object\n",
    "state1.TP = T1, P1     # set temperature and pressure\n",
    "v1 = state1.v          # specific volume [m^3/kg]\n",
    "\n",
    "# state 2\n",
    "v2 = v1                # specific volume [m^3/kg]\n",
    "T2 = 150 + 273.15      # temperature [K]\n",
    "state2 = ct.Water()    # create water object\n",
    "state2.TV = T2, v2     # set temperature and specific volume\n",
    "P2 = state2.P          # pressure [Pa]\n",
    "\n",
    "print('State 2 pressure =',P2,'Pa')"
   ]
  },
  {
   "cell_type": "markdown",
   "metadata": {},
   "source": [
    "Note that we had to find $v_1$ before we could determine state 2 because we were only given one parameter at state 2, $T_2$!"
   ]
  },
  {
   "cell_type": "markdown",
   "metadata": {},
   "source": [
    "Now, let's define a function to plot this process on a T-v diagram.  The following code block is our first attempt at such a function.  (We will make improvements to this function in later lessons!)  This function plots the following:\n",
    "\n",
    "* Plots the critical point as a red star\n",
    "\n",
    "* Plots the saturated liquid and vapor curves\n",
    "\n",
    "* Finally, plots state 1 and state 2 of the process and connects them with a straight line"
   ]
  },
  {
   "cell_type": "code",
   "execution_count": 15,
   "metadata": {},
   "outputs": [],
   "source": [
    "def Tv_diagram(*args):\n",
    "    \n",
    "    T_states = np.zeros(len(args),)  # array to store temperatures at each state\n",
    "    v_states = np.zeros(len(args),)  # array to store specific volumes at each state\n",
    "    \n",
    "    for i in range(len(args)):       # loop through each state in the process\n",
    "        T_states[i] = args[i].T\n",
    "        v_states[i] = args[i].v\n",
    "        plt.text(v_states[i],T_states[i]-273.15,'  '+str(i+1),fontsize=12)\n",
    "    plt.semilogx(v_states,T_states-273.15,'bo-',linewidth=2)"
   ]
  },
  {
   "cell_type": "markdown",
   "metadata": {},
   "source": [
    "Let's look at how this function works.  First, notice how the function is defined, `Tv_diagram(*args)`.  The `*args` command is used to input a variable number of arguments.  We want this function to work for a thermodynamic process with any number of steps, so this command lets us plan for any number of inputs.\n",
    "\n",
    "We want to plot the thermodynamic process specific to this example.  We loop through all the states in the process, adding their temperatures and specific volumes to the arrays `T_states` and `v_states`.  Last, we plot these states as a blue line with circular markers and text labels.\n",
    "\n",
    "We call our previous function for plotting the vapor dome, then our newly created function using the following commands:"
   ]
  },
  {
   "cell_type": "code",
   "execution_count": 16,
   "metadata": {},
   "outputs": [
    {
     "data": {
      "image/png": "[encoded data removed]",
      "text/plain": [
       "<Figure size 432x288 with 1 Axes>"
      ]
     },
     "metadata": {
      "needs_background": "light"
     },
     "output_type": "display_data"
    }
   ],
   "source": [
    "Tv_vapor_dome()\n",
    "Tv_diagram(state1,state2)"
   ]
  },
  {
   "cell_type": "markdown",
   "metadata": {},
   "source": [
    "This plot shows that the process starts in a superheated vapor state (state 1) and ends in a saturated liquid-vapor state (state 2)."
   ]
  },
  {
   "cell_type": "markdown",
   "metadata": {},
   "source": [
    "#### Try it!\n",
    "\n",
    "Suppose the water is cooled further until the pressure reaches $P_3 = 100 kPa$.  Find the temperature $T_3$ and plot this additional step on the T-v diagram."
   ]
  },
  {
   "cell_type": "code",
   "execution_count": 17,
   "metadata": {},
   "outputs": [
    {
     "name": "stdout",
     "output_type": "stream",
     "text": [
      "State 3 temperature 99.65884381816676 C\n"
     ]
    },
    {
     "data": {
      "image/png": "[encoded data removed]",
      "text/plain": [
       "<Figure size 432x288 with 1 Axes>"
      ]
     },
     "metadata": {
      "needs_background": "light"
     },
     "output_type": "display_data"
    }
   ],
   "source": [
    "# state 3\n",
    "state3 = ct.Water()\n",
    "v3 = v2\n",
    "P3 = 100e3\n",
    "state3.PV = P3, v3\n",
    "T3 = state3.T\n",
    "print('State 3 temperature',T3-273.15,'C')\n",
    "\n",
    "Tv_vapor_dome()\n",
    "Tv_diagram(state1,state2,state3)"
   ]
  },
  {
   "cell_type": "markdown",
   "metadata": {},
   "source": [
    "<a id='phasestate'></a>\n",
    "\n",
    "### Determining Phase from Therodynamic State\n",
    "\n",
    "From plots like the T-v diagram shown above, it is easy to determine the phase of the substance (in this case water) at the beginning and end of the process.  The way we do this is to look at where the points lie relative to the saturation curves.\n",
    "\n",
    "To further help make phase distinctions, let's add some lines of contant pressure (called **isobars**) to the diagram.  Additionally, let's have them pass through the critical point, state 1, and state 2."
   ]
  },
  {
   "cell_type": "code",
   "execution_count": 18,
   "metadata": {},
   "outputs": [
    {
     "data": {
      "image/png": "[encoded data removed]",
      "text/plain": [
       "<Figure size 432x288 with 1 Axes>"
      ]
     },
     "metadata": {
      "needs_background": "light"
     },
     "output_type": "display_data"
    }
   ],
   "source": [
    "Tv_vapor_dome()\n",
    "Tv_diagram(state1,state2)\n",
    "\n",
    "# plot isobar through critical point\n",
    "w = ct.Water()\n",
    "Pcrit = w.critical_pressure    # critical pressure [Pa]\n",
    "v_array = np.logspace(-3,2,101)\n",
    "T_array = np.full_like(v_array,np.nan)\n",
    "for i in range(v_array.size):\n",
    "    w.PV = Pcrit, v_array[i]\n",
    "    if w.T > 600 + 273.15:\n",
    "        break\n",
    "    T_array[i] = w.T\n",
    "plt.semilogx(v_array,T_array-273.15,'k')\n",
    "\n",
    "# plot isobar through state 1\n",
    "T_array = np.full_like(v_array,np.nan)\n",
    "for i in range(v_array.size):\n",
    "    w.PV = state1.P, v_array[i]\n",
    "    if w.T > 600 + 273.15:\n",
    "        break\n",
    "    T_array[i] = w.T\n",
    "plt.semilogx(v_array,T_array-273.15,'k')\n",
    "\n",
    "# plot isobar through state 2\n",
    "T_array = np.full_like(v_array,np.nan)\n",
    "for i in range(v_array.size):\n",
    "    w.PV = state2.P, v_array[i]\n",
    "    if w.T > 600 + 273.15:\n",
    "        break\n",
    "    T_array[i] = w.T\n",
    "plt.semilogx(v_array,T_array-273.15,'k');"
   ]
  },
  {
   "cell_type": "markdown",
   "metadata": {},
   "source": [
    "Now, we can clearly see that state 1 is at a temperature above the critical temperature, and at a pressure lower than the critical pressure.  Thus, it is a *superheated vapor*.  Let's verify these assertions:"
   ]
  },
  {
   "cell_type": "code",
   "execution_count": 19,
   "metadata": {},
   "outputs": [
    {
     "name": "stdout",
     "output_type": "stream",
     "text": [
      "Critical temperature = 374.13599999999997 C\n",
      "T_1 = 500.0 C\n",
      "Critical pressure = 22089000.0 Pa\n",
      "P_1 = 2000000.0003193528 Pa\n"
     ]
    }
   ],
   "source": [
    "print('Critical temperature =',w.critical_temperature-273.15,'C')\n",
    "print('T_1 =',state1.T-273.15,'C')\n",
    "print('Critical pressure =',w.critical_pressure,'Pa')\n",
    "print('P_1 =',state1.P,'Pa')"
   ]
  },
  {
   "cell_type": "markdown",
   "metadata": {},
   "source": [
    "Let's look at state 2.  From the plot we can see that it's a saturated fluid-vapor mixture.  How can we confirm this without a diagram?\n",
    "\n",
    "Let's focus on the saturated liquid and vapor states at the same pressure as state 2.  The following code replots the vapor dome, state 2, and the saturated fluid and vapor states at the same pressure as state 2:"
   ]
  },
  {
   "cell_type": "code",
   "execution_count": 20,
   "metadata": {},
   "outputs": [
    {
     "data": {
      "image/png": "[encoded data removed]",
      "text/plain": [
       "<Figure size 432x288 with 1 Axes>"
      ]
     },
     "metadata": {
      "needs_background": "light"
     },
     "output_type": "display_data"
    }
   ],
   "source": [
    "Tv_vapor_dome()\n",
    "\n",
    "# plot state 2\n",
    "plt.semilogx(state2.v,state2.T-273.15,'bo')\n",
    "plt.text(state2.v,state2.T-273.15,'  2',fontsize=12)\n",
    "\n",
    "# plot isobar through state 2\n",
    "w = ct.Water()\n",
    "v_array = np.logspace(-3,2,101)\n",
    "T_array = np.full_like(v_array,np.nan)\n",
    "for i in range(v_array.size):\n",
    "    w.PV = state2.P, v_array[i]\n",
    "    if w.T > 400 + 273.15:\n",
    "        break\n",
    "    T_array[i] = w.T\n",
    "plt.semilogx(v_array,T_array-273.15,'k')\n",
    "\n",
    "# plot saturated liquid state at P_2\n",
    "w.PX = state2.P, 0\n",
    "plt.semilogx(w.v,w.T-273.15,'m*')\n",
    "plt.text(1.2*w.v,w.T-273.15-25,'$(v_f,T_{sat})$',fontsize=12)\n",
    "\n",
    "# plot saturated vapor state at P_2\n",
    "w.PX = state2.P, 1\n",
    "plt.semilogx(w.v,w.T-273.15,'m*')\n",
    "plt.text(1.2*w.v,w.T-273.15,'$(v_g,T_{sat})$',fontsize=12);"
   ]
  },
  {
   "cell_type": "markdown",
   "metadata": {},
   "source": [
    "Now, let's show definitively that state 2 is a saturated fluid-vapor mixture.  To do this, we show that the specific volume at state 2 is between the specific volumes of a pure saturated fluid and a pure saturated vapor, in other words\n",
    "\n",
    "$v_f < v_2 < v_g$"
   ]
  },
  {
   "cell_type": "code",
   "execution_count": 21,
   "metadata": {},
   "outputs": [
    {
     "name": "stdout",
     "output_type": "stream",
     "text": [
      "v_f = 0.001090488669291146 m^3/kg\n",
      "v_2 = 0.17567602672056637 m^3/kg\n",
      "v_g = 0.3931786253702526 m^3/kg\n"
     ]
    }
   ],
   "source": [
    "w.PX = state2.P, 0\n",
    "print('v_f =',w.v,'m^3/kg')\n",
    "print('v_2 =',state2.v,'m^3/kg')\n",
    "w.PX = state2.P, 1\n",
    "print('v_g =',w.v,'m^3/kg')"
   ]
  },
  {
   "cell_type": "markdown",
   "metadata": {},
   "source": [
    "Since $v_f < v_2 < v_g$, we conclude that state 2 must be a mixure of the saturated fluid and the saturated vapor."
   ]
  },
  {
   "cell_type": "markdown",
   "metadata": {},
   "source": [
    "#### Try it!\n",
    "\n",
    "Determine the phase of each of the following water states:\n",
    "\n",
    "a. $T = 25 ^\\circ C$ and $v = 0.001001 m^3/kg$\n",
    "\n",
    "b. $P = 1 MPa$ and $v = 0.32 m^3/kg$\n",
    "\n",
    "c. $T = 50 ^\\circ C$ and $v = 10 m^3/kg$"
   ]
  },
  {
   "cell_type": "code",
   "execution_count": 22,
   "metadata": {},
   "outputs": [
    {
     "name": "stdout",
     "output_type": "stream",
     "text": [
      "v_f = 0.0010029317234519772 m^3/kg\n",
      "v_g = 43.45369430937588 m^3/kg\n"
     ]
    }
   ],
   "source": [
    "w = ct.Water()\n",
    "\n",
    "# part a\n",
    "T = 25 + 273.15\n",
    "w.TX = T, 0\n",
    "print('v_f =',w.v,'m^3/kg')\n",
    "w.TX = T, 1\n",
    "print('v_g =',w.v,'m^3/kg')"
   ]
  },
  {
   "cell_type": "markdown",
   "metadata": {},
   "source": [
    "Since $v < v_f$, we conclude that the water is a compressed liquid."
   ]
  },
  {
   "cell_type": "code",
   "execution_count": 23,
   "metadata": {},
   "outputs": [
    {
     "name": "stdout",
     "output_type": "stream",
     "text": [
      "v_f = 0.001127326401112596 m^3/kg\n",
      "v_g = 0.19446853746357606 m^3/kg\n"
     ]
    }
   ],
   "source": [
    "# part b\n",
    "P = 1e6\n",
    "w.PX = P, 0\n",
    "print('v_f =',w.v,'m^3/kg')\n",
    "w.PX = P, 1\n",
    "print('v_g =',w.v,'m^3/kg')"
   ]
  },
  {
   "cell_type": "markdown",
   "metadata": {},
   "source": [
    "Since $v > v_g$, we conclude that the water is a superheated vapor."
   ]
  },
  {
   "cell_type": "code",
   "execution_count": 24,
   "metadata": {},
   "outputs": [
    {
     "name": "stdout",
     "output_type": "stream",
     "text": [
      "v_f = 0.0010121430761650548 m^3/kg\n",
      "v_g = 12.05787967509177 m^3/kg\n"
     ]
    }
   ],
   "source": [
    "# part c\n",
    "T = 50 + 273.15\n",
    "w.TX = T, 0\n",
    "print('v_f =',w.v,'m^3/kg')\n",
    "w.TX = T, 1\n",
    "print('v_g =',w.v,'m^3/kg')"
   ]
  },
  {
   "cell_type": "markdown",
   "metadata": {},
   "source": [
    "Since $v_f < v < v_g$, we conclude that the water is a liquid-vapor mixture.\n",
    "\n",
    "Furthermore, we can compute the quality using the formula\n",
    "\n",
    "$x = \\dfrac{v-v_f}{v_g-v_f}$"
   ]
  },
  {
   "cell_type": "code",
   "execution_count": 25,
   "metadata": {},
   "outputs": [
    {
     "name": "stdout",
     "output_type": "stream",
     "text": [
      "Quality = 0.8293188782552922\n"
     ]
    }
   ],
   "source": [
    "v = 10\n",
    "w.TX = T, 0\n",
    "vf = w.v\n",
    "w.TX = T, 1\n",
    "vg = w.v\n",
    "x = (v-vf)/(vg-vf)\n",
    "print('Quality =',x)"
   ]
  }
 ],
 "metadata": {
  "kernelspec": {
   "display_name": "Python 3",
   "language": "python",
   "name": "python3"
  },
  "language_info": {
   "codemirror_mode": {
    "name": "ipython",
    "version": 3
   },
   "file_extension": ".py",
   "mimetype": "text/x-python",
   "name": "python",
   "nbconvert_exporter": "python",
   "pygments_lexer": "ipython3",
   "version": "3.7.4"
  }
 },
 "nbformat": 4,
 "nbformat_minor": 2
}
