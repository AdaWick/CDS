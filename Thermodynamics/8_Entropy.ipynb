{
 "cells": [
  {
   "cell_type": "markdown",
   "metadata": {},
   "source": [
    "###### Content under Creative Commons Attribution license CC-BY 4.0, code under BSD 3-Clause License © 2020 Adam Wickenheiser"
   ]
  },
  {
   "cell_type": "markdown",
   "metadata": {},
   "source": [
    "# What is Entropy and How to Use it to Determine Thermodynamic Efficiency"
   ]
  },
  {
   "cell_type": "markdown",
   "metadata": {},
   "source": [
    "In the previous lesson, we saw how to define the *thermodynamic efficiency* of a cycle if the total work and heat transfer of each step in the cycle is known.  This is a \"systems-level\" view of a thermodynamic system: at this point we aren't concerned with the details of the process, just the overall inputs and outputs.  Just like most engineering design processes, it makes sense to start with the overall goals (i.e. what do we want the system to *do*), and then iterate on ways to make it happen (or revise the goals if needed!).\n",
    "\n",
    "In this lesson, we introduce the thermodynamic property called *entropy*.  Colloquially, you may have used this term to mean \"disorder\", e.g. that we have to constantly \"fight\" against entropy increase, which happens naturally if we don't regularly clean, organize, and generally take care of our surroundings.  We will discuss the physical basis for entropy by connecting it to reversible and irreversible processes, as discussed in the previous lesson.  Indeed, the more irreversible the process is, the more entropy is \"generated\".  To keep tabs on how much entropy is generated, we will show that it is a thermodynamic property, just like temperature and pressure, and calculate changes in this property for different processes."
   ]
  },
  {
   "cell_type": "markdown",
   "metadata": {},
   "source": [
    "## Learning objectives:\n",
    "\n",
    "1. To be able to describe the theoretical and practical barriers to achieving 100% conversion of heat into useful work.\n",
    "1. To be able to distinguish between reversible and irreversible processes and what difference this makes in the efficiecy of a process.\n",
    "1. To be able to describe why both a hot and a cold reservoir are required to produce work from heat or to heat/cool and interior space.\n",
    "1. To be able to calculate the efficiency of common thermodynamic cycles such as power generators, heat pumps, and refrigerators.\n",
    "1. To be able to describe the Carnot Cycle as an ideal thermodynamic cycle with maximum efficiency."
   ]
  },
  {
   "cell_type": "markdown",
   "metadata": {},
   "source": [
    "## Contents:\n",
    "\n",
    "1. [How do we quantify entropy?](#entropy)\n",
    "1. [Plotting Entropy Change](#plotting)\n",
    "1. [Efficiency and Maximum Efficiency](#eff)\n",
    "1. [The Carnot Cycle: A Model for Maximum Efficiency](#carnot)"
   ]
  },
  {
   "cell_type": "markdown",
   "metadata": {},
   "source": [
    "<a id='entropy'></a>\n",
    "\n",
    "### How do we quantify entropy?\n",
    "\n",
    "To match our layman's understanding of entropy, we want to define a quantity that increases after an irreversible process but does not change after completing a reversible cycle.  Let's construct an example of a system undergoing heat transfer and work production, which may or may not be reversible:\n",
    "\n",
    "<img src=\"../images/generic cycle.png\" width=\"500\">\n",
    "\n",
    "The problem with this process is that the heat transfer to and from the surroundings is necessarily irreversible.  As we saw in the previous lesson, heat only flows from high to low temperatures.  So, this process cannot be made reversible (or even approximately reversible) without a heat pump/power generator to generate energy when heat flows from hot to cold then use it later to pump heat from cold to hot.\n",
    "\n",
    "To fix this issue, let's add a reversible heat pump between the surroundings and the piston-cylinder system:\n",
    "\n",
    "<img src=\"../images/Clausius statement.png\" width=\"250\">\n",
    "\n",
    "A balance of energy for the control volume (CV) outlined in red gives\n",
    "\n",
    "$\\delta Q_R - (\\delta W_{rev} + \\delta W_{sys}) = dE_{rev} + dE_{sys}$\n",
    "\n",
    "where we use the differential notation ($\\delta$ or $d$) to indicate the transfer of energy during a short time period $dt$.\n",
    "\n",
    "As shown in the previous lesson, absolute temperature (like the Kelvin scale) is defined in terms of the heat transfer in and out of a reversible cycle.  Thus,\n",
    "\n",
    "$\\dfrac{\\delta Q_R}{\\delta Q} = \\dfrac{T_R}{T}$\n",
    "\n",
    "Substituting this equation into the energy balance gives\n",
    "\n",
    "$\\delta W_{rev} + \\delta W_{sys} = T_R \\dfrac{\\delta Q}{T} -(dE_{rev} + dE_{sys})$\n",
    "\n",
    "Integrating this over a complete cycle yields\n",
    "\n",
    "$W_{rev} + W_{sys} = T_R \\oint \\dfrac{\\delta Q}{T}$\n",
    "\n",
    "Note that the energy of the system returns to its original value after a cycle (by definition), so these terms drop out of the equation.\n",
    "\n",
    "The **Kelvin-Planck Statement** says that a cyclic device cannot receive heat from a single reservoir and produce work.  Since the CV in our diagram only exchanges heat with a single reservoir, it cannot produce any net work.  Therefore, we must have\n",
    "\n",
    "$W_{rev} + W_{sys} \\leq 0$\n",
    "\n",
    "and, in particular\n",
    "\n",
    "$W_{rev} + W_{sys} = 0$\n",
    "\n",
    "if the cycle that the system undergoes is reversible.  Thus,\n",
    "\n",
    "$\\oint \\dfrac{\\delta Q}{T} \\leq 0$\n",
    "\n",
    "which is known as the **Clausius Inequality**."
   ]
  },
  {
   "cell_type": "markdown",
   "metadata": {},
   "source": [
    "We can now define the thermodynamic property **entropy**.  The Clausius Inequality becomes an equality if the cycle that the system undergoes is reversible:\n",
    "\n",
    "$\\oint \\left( \\dfrac{\\delta Q}{T} \\right)_{rev} = 0$\n",
    "\n",
    "So the quantity inside the integral acts just like any other thermodynamic property in that when a system goes through a cycle it returns to its original value (i.e. the change in that property is 0).\n",
    "\n",
    "So, we define the change in entropy ($S$) of the system as it goes through a process $1 \\to 2$ as\n",
    "\n",
    "$\\Delta S_{sys} = S_2 - S_1 = \\int_1^2 \\left( \\dfrac{\\delta Q}{T} \\right)_{rev}$\n",
    "\n",
    "where we can see that the units of entropy are $J/K$ or $kJ/K$.\n",
    "\n",
    "Rather than trying to evaluate this integral directly, entropy is computed from other more easily measured properties and tabulated (more on this later).\n",
    "\n",
    "We can also define **specific entropy**, analogous to other specific properties, as entropy per unit mass:\n",
    "\n",
    "$s_2 - s_1 = \\frac{1}{m}(S_2 - S_1)$\n",
    "\n",
    "Specific entropy has units of $J/kgK$ or $kJ/kgK$.\n",
    "\n",
    "Before moving onto an example of using entropy, there is one more consequence of the Clausius Inequality.  If a cycle $1 \\to 2 \\to 1$ consists of an irreversible step followed by a reversible step, then\n",
    "\n",
    "$\\int_1^2 \\left( \\dfrac{\\delta Q}{T} \\right)_{irrev} + \\int_2^1 \\left( \\dfrac{\\delta Q}{T} \\right)_{rev} \\leq 0$\n",
    "\n",
    "by the Clausius Inequality.  Hence,\n",
    "\n",
    "$\\int_1^2 \\left( \\dfrac{\\delta Q}{T} \\right)_{irrev} \\leq \\int_1^2 \\left( \\dfrac{\\delta Q}{T} \\right)_{rev} = \\Delta S_{sys}$\n",
    "\n",
    "This inequality shows that the change in entropy of a system is greater than the entropy added to the system through heat transfer (the term on the left).  Indeed, because this heat transfer is irreversible, some entropy is *generated* by this process.  Let's call this additional entropy $S_{gen}$.  Then we get\n",
    "\n",
    "$\\int_1^2 \\left( \\dfrac{\\delta Q}{T} \\right)_{irrev} + S_{gen} = \\Delta S_{sys}$\n",
    "\n",
    "Thus, we must have $S_{gen} \\geq 0$, and $S_{gen} = 0$ only if the process is reversible.  This idea is called the **Increase in Entropy Principle**.  It accords with our everyday notion of entropy increasing over time."
   ]
  },
  {
   "cell_type": "markdown",
   "metadata": {},
   "source": [
    "<a id='plotting'></a>\n",
    "\n",
    "### Plotting Entropy Change\n",
    "\n",
    "In this section, we will use Cantera to find the entropy change of a system undergoing a reversible process, and plot this process on both P-v (pressure vs. specific volume) and T-s (temperature vs. specific entropy) diagrams.\n",
    "\n",
    "**Example:** Saturated liquid water is boiled inside a piston-cylinder arrangement until it becomes saturated vapor.  During this process, the temperature of the water is a constant $T = 100 ^\\circ C$, and the mass of the water is $m = 2 kg$.  Determine the work done by the piston on the surroundings, and how much heat is required to boil all of the liquid off.\n",
    "\n",
    "When we model how energy flows into or out of a control system, we start with an energy balance (the First Law of Thermodynamics):\n",
    "\n",
    "$Q - W = \\Delta E_{sys}$\n",
    "\n",
    "where, as usual, we define $Q > 0$ to be heat transferred *to* the system and $W > 0$ to be work done *by* the system (on the surroundings -- in this case, on the piston).\n",
    "\n",
    "Now, let's look at the work done on the piston by the water in the cylinder (see the previous lesson on Work):\n",
    "\n",
    "$W = \\int\\limits_1^2 \\delta W = m\\int\\limits_{v_1}^{v_2} P(v)dv$\n",
    "\n",
    "where we assume the mass of water in the cylinder $m$ remains constant during the process, and pressure can be written as a function of specific volume.\n",
    "\n",
    "In this example, pressure is constant, so this simplifies to\n",
    "\n",
    "$W = mP\\int\\limits_{v_1}^{v_2} dv = mP(v_2-v_1)$\n",
    "\n",
    "On the right-hand side of the energy balance, we break the total energy of the system into parts:\n",
    "\n",
    "$\\Delta E_{sys} = \\Delta U + \\Delta KE + \\Delta PE$\n",
    "\n",
    "where we can assume that $\\Delta KE = \\Delta PE = 0$.\n",
    "\n",
    "For the change in internal energy, we write this on a per-mass basis:\n",
    "\n",
    "$\\Delta U = m \\Delta u = m(u_2-u_1)$\n",
    "\n",
    "where $u$ is the specific internal energy.\n",
    "\n",
    "Thus, the heat transferred to the water during this process is\n",
    "\n",
    "$Q = W + m(u_2-u_1)$"
   ]
  },
  {
   "cell_type": "markdown",
   "metadata": {},
   "source": [
    "Let's summarize what we know about the two states of this process:\n",
    "\n",
    "**State 1:**  ***Known:*** $T_1$, $x_1$, ***Unknown:*** $P_1, v_1$\n",
    "\n",
    "**State 2:**  ***Known:*** $P_2 = P_1$, $x_2$, ***Unknown:*** $v_2$"
   ]
  },
  {
   "cell_type": "code",
   "execution_count": 1,
   "metadata": {},
   "outputs": [],
   "source": [
    "import numpy as np\n",
    "import matplotlib.pyplot as plt\n",
    "import cantera as ct"
   ]
  },
  {
   "cell_type": "code",
   "execution_count": 2,
   "metadata": {},
   "outputs": [
    {
     "name": "stdout",
     "output_type": "stream",
     "text": [
      "Work done on piston = 338.889231334935 kJ\n",
      "Heat transferred = 4514.088876116163 kJ\n"
     ]
    }
   ],
   "source": [
    "m = 2            # mass of water [kg]\n",
    "\n",
    "# state 1\n",
    "state1 = ct.Water()    # create water object\n",
    "T1 = 100 + 273.15      # temperature [K]\n",
    "x1 = 0.0               # quality\n",
    "state1.TX = T1, x1     # set temperature and quality\n",
    "P1 = state1.P          # pressure [Pa]\n",
    "v1 = state1.v          # specific volume [m^3/kg]\n",
    "u1 = state1.u          # specific internal energy [J/kg]\n",
    "\n",
    "# state 2\n",
    "state2 = ct.Water()    # create water object\n",
    "T2 = T1                # temperature [K]\n",
    "x2 = 1.0               # quality\n",
    "state2.TX = T2, x2     # set temperature and quality\n",
    "v2 = state2.v          # specific volume [m^3/kg]\n",
    "u2 = state2.u          # specific internal energy [J/kg]\n",
    "\n",
    "W = m*P1*(v2-v1)     # work done [J]\n",
    "Q = W + m*(u2-u1)    # heat transferred [J]\n",
    "\n",
    "print('Work done on piston =',W/1000.0,'kJ')\n",
    "print('Heat transferred =',Q/1000.0,'kJ')"
   ]
  },
  {
   "cell_type": "markdown",
   "metadata": {},
   "source": [
    "Let's plot this process on a P-v diagram.  On this diagram, the work done is the area under the curve, i.e.\n",
    "\n",
    "$W = \\int\\limits_1^2 \\delta W = m\\int\\limits_{v_1}^{v_2} P(v)dv$\n",
    "\n",
    "First we will create a function for plotting the vapor dome on the P-v axes (see Lesson 1 \"Properties\" for a discussion on plotting vapor domes)."
   ]
  },
  {
   "cell_type": "code",
   "execution_count": 3,
   "metadata": {},
   "outputs": [],
   "source": [
    "def Pv_vapor_dome():\n",
    "    \n",
    "    w = ct.Water()\n",
    "    \n",
    "    # critical pressure and specific volume\n",
    "    Pcrit = w.critical_pressure    # critical pressure [Pa]\n",
    "    vcrit = 1/w.critical_density   # critical specific volume [m^3/kg]\n",
    "\n",
    "    # set up arrays for plotting saturated curves\n",
    "    P_array = np.linspace(50e3,0.9999*Pcrit)   # the pressure range must stop just before the critical point\n",
    "    vf_array = np.zeros_like(P_array)\n",
    "    vg_array = np.zeros_like(P_array)\n",
    "\n",
    "    # get saturated states for plotting\n",
    "    for i in range(P_array.size):\n",
    "        w.PX = P_array[i], 0        # saturated liquid (x = 0)\n",
    "        vf_array[i] = w.v\n",
    "    \n",
    "        w.PX = P_array[i], 1        # saturated vapor (x = 1)\n",
    "        vg_array[i] = w.v\n",
    "\n",
    "    # plot saturated curves and critical point\n",
    "    plt.semilogx(vf_array,P_array/1000.0,'g',vg_array,P_array/1000.0,'g',vcrit,Pcrit/1000.0,'r*')\n",
    "    plt.ylabel('Pressure [$kPa$]')\n",
    "    plt.xlabel('Specific volume [$m^3/s$]')"
   ]
  },
  {
   "cell_type": "code",
   "execution_count": 4,
   "metadata": {},
   "outputs": [],
   "source": [
    "def Pv_diagram(*args):\n",
    "    \n",
    "    P_states = np.zeros(len(args),)  # array to store pressures at each state\n",
    "    v_states = np.zeros(len(args),)  # array to store specific volumes at each state\n",
    "    \n",
    "    for i in range(len(args)):       # loop through each state in the process\n",
    "        P_states[i] = args[i].P\n",
    "        v_states[i] = args[i].v\n",
    "        plt.text(v_states[i],P_states[i]/1000.0,'  '+str(i+1),fontsize=12)\n",
    "    plt.semilogx(v_states,P_states/1000.0,'bo-',linewidth=2)\n",
    "    "
   ]
  },
  {
   "cell_type": "code",
   "execution_count": 5,
   "metadata": {},
   "outputs": [
    {
     "data": {
      "image/png": "[encoded data removed]",
      "text/plain": [
       "<Figure size 432x288 with 1 Axes>"
      ]
     },
     "metadata": {
      "needs_background": "light"
     },
     "output_type": "display_data"
    }
   ],
   "source": [
    "Pv_vapor_dome()\n",
    "Pv_diagram(state1,state2)"
   ]
  },
  {
   "cell_type": "markdown",
   "metadata": {},
   "source": [
    "We can also compute the heat transferred using entropy.  Recall that for a reversible process\n",
    "\n",
    "$S_2 - S_1 = \\int_1^2 \\left( \\dfrac{\\delta Q}{T} \\right)_{rev}$\n",
    "\n",
    "Because the system's temperature is constant and the boiling process is reverisble, we can pull it out of the integral to get\n",
    "\n",
    "$S_2 - S_1 = \\dfrac{1}{T} \\int_1^2 \\delta Q = \\dfrac{Q}{T}$\n",
    "\n",
    "Rearraging this we get\n",
    "\n",
    "$Q = T(S_2 - S_1) = mT(s_2 - s_1)$"
   ]
  },
  {
   "cell_type": "code",
   "execution_count": 6,
   "metadata": {},
   "outputs": [
    {
     "name": "stdout",
     "output_type": "stream",
     "text": [
      "Heat transferred = 4514.088877112113 kJ\n"
     ]
    }
   ],
   "source": [
    "s1 = state1.s          # specific entropy [J/kgK]\n",
    "s2 = state2.s          # specific entropy [J/kgK]\n",
    "\n",
    "Q = m*T1*(s2-s1)       # heat transferred [J]\n",
    "\n",
    "print('Heat transferred =',Q/1000.0,'kJ')"
   ]
  },
  {
   "cell_type": "markdown",
   "metadata": {},
   "source": [
    "We see that this method gives the exact same answer as we got earlier.\n",
    "\n",
    "Using similar functions, we can plot this process on a T-s diagram, as follows."
   ]
  },
  {
   "cell_type": "code",
   "execution_count": 7,
   "metadata": {},
   "outputs": [],
   "source": [
    "def Ts_vapor_dome():\n",
    "    \n",
    "    w = ct.Water()\n",
    "    \n",
    "    # critical temperature and specific entropy\n",
    "    Tcrit = w.critical_temperature    # critical temperature [K]\n",
    "    vcrit = 1/w.critical_density      # critical specific volume [m^3/kg]\n",
    "    w.TV = Tcrit, vcrit\n",
    "    scrit = w.s                       # critical specific entropy [J/(kg*K)]\n",
    "\n",
    "    # set up arrays for plotting saturated curves\n",
    "    T_array = np.linspace(15+273.15,0.9999*Tcrit)   # the temperature range must stop just before the critical point\n",
    "    sf_array = np.zeros_like(T_array)\n",
    "    sg_array = np.zeros_like(T_array)\n",
    "\n",
    "    # get saturated states for plotting\n",
    "    for i in range(T_array.size):\n",
    "        w.TX = T_array[i], 0        # saturated liquid (x = 0)\n",
    "        sf_array[i] = w.s\n",
    "    \n",
    "        w.TX = T_array[i], 1        # saturated vapor (x = 1)\n",
    "        sg_array[i] = w.s\n",
    "\n",
    "    # plot saturated curves and critical point\n",
    "    plt.semilogx(sf_array/1000.0,T_array-273.15,'g',sg_array/1000.0,T_array-273.15,'g',scrit/1000.0,Tcrit-273.15,'r*')\n",
    "    plt.ylabel('Temperature [$^\\circ C$]')\n",
    "    plt.xlabel('Specific entropy [$kJ/(kg*K)$]')\n",
    "    "
   ]
  },
  {
   "cell_type": "code",
   "execution_count": 8,
   "metadata": {},
   "outputs": [],
   "source": [
    "def Ts_diagram(*args):\n",
    "    \n",
    "    T_states = np.zeros(len(args),)  # array to store temperatures at each state\n",
    "    s_states = np.zeros(len(args),)  # array to store specific entropies at each state\n",
    "    \n",
    "    for i in range(len(args)):       # loop through each state in the process\n",
    "        T_states[i] = args[i].T\n",
    "        s_states[i] = args[i].s\n",
    "        plt.text(s_states[i]/1000.0,T_states[i]-273.15,'  '+str(i+1),fontsize=12)\n",
    "    plt.semilogx(s_states/1000.0,T_states-273.15,'bo-',linewidth=2)\n",
    "    "
   ]
  },
  {
   "cell_type": "code",
   "execution_count": 9,
   "metadata": {},
   "outputs": [
    {
     "data": {
      "image/png": "[encoded data removed]",
      "text/plain": [
       "<Figure size 432x288 with 1 Axes>"
      ]
     },
     "metadata": {
      "needs_background": "light"
     },
     "output_type": "display_data"
    }
   ],
   "source": [
    "Ts_vapor_dome()\n",
    "Ts_diagram(state1,state2)"
   ]
  },
  {
   "cell_type": "markdown",
   "metadata": {},
   "source": [
    "<a id='approx'></a>\n",
    "\n",
    "### Approximating Entropy Change\n",
    "\n",
    "In this section, we'll look at some common formulas for approximating the change in entropy of a substance with respect to more easily measurable variables such as specific volume, pressure, and temperature.  We will first look at general formulas, then specific applications to incompressible liquids (and solids) and ideal gases.\n",
    "\n",
    "Consider the energy balance of a closed system over a small increment of time $dt$:\n",
    "\n",
    "$\\delta Q - \\delta W = dE = dU$\n",
    "\n",
    "where we have ignored any changes in kinetic and potential energies.\n",
    "\n",
    "If the onlly work done is to change the volume, then it can be written as\n",
    "\n",
    "$\\delta W = PdV$\n",
    "\n",
    "Recall that we define changes in entropy in terms of the heat transferred during a reversible process:\n",
    "\n",
    "$S_2 - S_1 = \\int_1^2 \\left( \\dfrac{\\delta Q}{T} \\right)_{rev}$\n",
    "\n",
    "so over a short time $dt$, then change in entropy is\n",
    "\n",
    "$dS = \\dfrac{\\delta Q}{T}$\n",
    "\n",
    "Substituting this into the first equation gives\n",
    "\n",
    "$TdS - PdV = dU$\n",
    "\n",
    "which, when divided by mass and rearranged, gives\n",
    "\n",
    "$Tds = du + Pdv$\n",
    "\n",
    "which is called the **First Gibbs Equation**\n",
    "\n",
    "Also, the definition of specific enthalpy gives\n",
    "\n",
    "$dh = d(u+ Pv) = du + vdP + Pdv$\n",
    "\n",
    "and so substituting this into the First Gibbs Equation yields\n",
    "\n",
    "$Tds = dh - vdP$\n",
    "\n",
    "which is called the **Second Gibbs Equation**"
   ]
  },
  {
   "cell_type": "markdown",
   "metadata": {},
   "source": [
    "#### Incompressible Liquids (and Solids)\n",
    "\n",
    "If the substance is incompressible (for example, liquid water), then we can make the simplifying assumption that its volume does not change, i.e. $dv = 0$, no matter what process it undergoes.  In this case, the specific heats are the same,\n",
    "\n",
    "$c_p = c_v \\equiv c$\n",
    "\n",
    "(because every process is constant volume), and we get by definition\n",
    "\n",
    "$du = cdT$\n",
    "\n",
    "Therefore,\n",
    "\n",
    "$ds = \\dfrac{du}{T}$\n",
    "\n",
    "Integrating this equation from the beginning to the end of the process $1 \\to 2$ gives\n",
    "\n",
    "$s_2 - s_1 = \\int\\limits_1^2 \\dfrac{c(T)}{T} dT$\n",
    "\n",
    "where we note that in general specific heat is a function of temperature.  If we assume a constant or average value of $c(T)$, then this simplifies to\n",
    "\n",
    "$s_2 - s_1 = c_{avg} \\ln\\left( \\dfrac{T_2}{T_1} \\right)$\n",
    "\n",
    "Let's see how this formuala holds up compared to the \"exact\" entropy values given by Cantera."
   ]
  },
  {
   "cell_type": "code",
   "execution_count": null,
   "metadata": {},
   "outputs": [],
   "source": [
    "# state 1\n",
    "state1 = ct.Water()    # create water object\n",
    "T1 = 20 + 273.15       # temperature [K]\n",
    "P1 = 100.0e3           # pressure [Pa]\n",
    "state1.TP = T1, P1     # set temperature and pressure\n",
    "s1 = state1.s          # specific entropy [J/(kg*K)]\n",
    "\n",
    "# state 2\n",
    "state2 = ct.Water()    # create water object\n",
    "T2 = 40 + 273.15       # temperature [K]\n",
    "P2 = 100.0e3           # pressure [Pa]\n",
    "state2.TP = T2, P2     # set temperature and pressure\n",
    "s2 = state2.s          # specific entropy [J/(kg*K)]\n",
    "\n",
    "s_exact = s2 - s1      # change in specific entropy [J/(kg*K)]\n",
    "\n",
    "print('Exact specific entropy change =',s_exact/1000.0,'kJ/(kg*K)')\n",
    "\n",
    "# use approximate formula with average specific heat\n",
    "state3 = ct.Water()    # create water object\n",
    "T3 = (T1+T2)/2.0       # temperature [K]\n",
    "P3 = 100.0e3           # pressure [Pa]\n",
    "state3.TP = T3, P3     # set temperature and pressure\n",
    "c_avg = state3.cp      # specific heat [J/kg]\n",
    "\n",
    "s_approx = c_avg*np.log(T2/T1)  # change in specific entropy [J/(kg*K)]\n",
    "print('Approximate specific entropy change =',s_approx/1000.0,'kJ/(kg*K)')\n",
    "\n",
    "print('Relative error =',(s_approx-s_exact)/s_exact*100.0,'%')"
   ]
  },
  {
   "cell_type": "markdown",
   "metadata": {},
   "source": [
    "Let's try this again over a larger temperature range"
   ]
  },
  {
   "cell_type": "code",
   "execution_count": null,
   "metadata": {},
   "outputs": [],
   "source": [
    "# state 1\n",
    "state1 = ct.Water()    # create water object\n",
    "T1 = 10 + 273.15       # temperature [K]\n",
    "P1 = 100.0e3           # pressure [Pa]\n",
    "state1.TP = T1, P1     # set temperature and pressure\n",
    "s1 = state1.s          # specific entropy [J/(kg*K)]\n",
    "\n",
    "# state 2\n",
    "state2 = ct.Water()    # create water object\n",
    "T2 = 90 + 273.15       # temperature [K]\n",
    "P2 = 100.0e3           # pressure [Pa]\n",
    "state2.TP = T2, P2     # set temperature and pressure\n",
    "s2 = state2.s          # specific entropy [J/(kg*K)]\n",
    "\n",
    "s_exact = s2 - s1      # change in specific entropy [J/(kg*K)]\n",
    "\n",
    "print('Exact specific entropy change =',s_exact/1000.0,'kJ/(kg*K)')\n",
    "\n",
    "# use approximate formula with average specific heat\n",
    "state3 = ct.Water()    # create water object\n",
    "T3 = (T1+T2)/2.0       # temperature [K]\n",
    "P3 = 100.0e3           # pressure [Pa]\n",
    "state3.TP = T3, P3     # set temperature and pressure\n",
    "c_avg = state3.cp      # specific heat [J/kg]\n",
    "\n",
    "s_approx = c_avg*np.log(T2/T1)  # change in specific entropy [J/(kg*K)]\n",
    "print('Approximate specific entropy change =',s_approx/1000.0,'kJ/(kg*K)')\n",
    "\n",
    "print('Relative error =',(s_approx-s_exact)/s_exact*100.0,'%')"
   ]
  },
  {
   "cell_type": "markdown",
   "metadata": {},
   "source": [
    "So the error gets much larger over a larger temperature range, but it is still less than 1%."
   ]
  },
  {
   "cell_type": "markdown",
   "metadata": {},
   "source": [
    "#### Ideal Gases\n",
    "\n",
    "If we can treat the gas as ideal, then we can employ the Ideal Gas Law to give us a relationship between pressure, temperature, and specific volume:\n",
    "\n",
    "$Pv = RT$\n",
    "\n",
    "where $R$ is the gas constant for the specific gas in question.\n",
    "\n",
    "We will also utilize the following formula:\n",
    "\n",
    "$R = c_p - c_v$\n",
    "\n",
    "which we derived previously, and the following definition:\n",
    "\n",
    "$k \\equiv \\dfrac{c_p}{c_v}$\n",
    "\n",
    "which is the ratio of specific heats.\n",
    "\n",
    "Starting with the First Gibbs Equation and the Ideal Gas Law, we can find\n",
    "\n",
    "$ds = \\dfrac{du}{T} + \\dfrac{Pdv}{T} = \\dfrac{c_v}{T}dT + \\dfrac{R}{v}dv$\n",
    "\n",
    "Integrating this equation from the beginning to the end of the process $1 \\to 2$ gives\n",
    "\n",
    "$s_2 - s_1 = \\int\\limits_1^2 \\dfrac{c_v(T)}{T} dT + R \\ln \\left( \\dfrac{V_2}{V_1} \\right)$\n",
    "\n",
    "where we note that in general specific heat is a function of temperature.  Like we did with incompressible liquids, if we assume a constant or average value of $c_v(T)$, then this simplifies to\n",
    "\n",
    "$s_2 - s_1 = c_{v,avg} \\ln\\left( \\dfrac{T_2}{T_1} \\right) + R \\ln \\left( \\dfrac{V_2}{V_1} \\right)$\n",
    "\n",
    "Using the Second Gibbs Equation, we can similarly get\n",
    "\n",
    "$s_2 - s_1 = \\int\\limits_1^2 \\dfrac{c_p(T)}{T} dT - R \\ln \\left( \\dfrac{P_2}{P_1} \\right)$\n",
    "\n",
    "which approximates to\n",
    "\n",
    "$s_2 - s_1 = c_{p,avg} \\ln\\left( \\dfrac{T_2}{T_1} \\right) - R \\ln \\left( \\dfrac{P_2}{P_1} \\right)$\n",
    "\n",
    "Let's see how these formualas holds up compared to the \"exact\" entropy values given by Cantera."
   ]
  },
  {
   "cell_type": "code",
   "execution_count": null,
   "metadata": {},
   "outputs": [],
   "source": [
    "# state 1\n",
    "state1 = ct.Solution('air.xml', 'air')      # create air object\n",
    "T1 = 20 + 273.15       # temperature [K]\n",
    "P1 = 100.0e3           # pressure [Pa]\n",
    "state1.TP = T1, P1     # set temperature and pressure\n",
    "v1 = state1.v          # specific volume [m^3/kg]\n",
    "s1 = state1.s          # specific entropy [J/(kg*K)]\n",
    "\n",
    "# state 2\n",
    "state2 = ct.Solution('air.xml', 'air')      # create air object\n",
    "T2 = 40 + 273.15       # temperature [K]\n",
    "P2 = 100.0e3           # pressure [Pa]\n",
    "state2.TP = T2, P2     # set temperature and pressure\n",
    "v2 = state2.v          # specific volume [m^3/kg]\n",
    "s2 = state2.s          # specific entropy [J/(kg*K)]\n",
    "\n",
    "s_exact = s2 - s1      # change in specific entropy [J/(kg*K)]\n",
    "\n",
    "print('Exact specific entropy change =',s_exact/1000.0,'kJ/(kg*K)')\n",
    "\n",
    "# use approximate formula with average specific heat\n",
    "state3 = ct.Solution('air.xml', 'air')      # create air object\n",
    "T3 = (T1+T2)/2.0       # temperature [K]\n",
    "P3 = 100.0e3           # pressure [Pa]\n",
    "state3.TP = T3, P3     # set temperature and pressure\n",
    "cp_avg = state3.cp     # specific heat at constant pressure [J/kg]\n",
    "cv_avg = state3.cv     # specific heat at constant volume [J/kg]\n",
    "R = cp_avg - cv_avg    # gas constant [J/kg]\n",
    "\n",
    "s_approx = cv_avg*np.log(T2/T1) + R*np.log(v2/v1)  # change in specific entropy [J/(kg*K)]\n",
    "print('Approximate specific entropy change =',s_approx/1000.0,'kJ/(kg*K)')\n",
    "\n",
    "print('Relative error =',(s_approx-s_exact)/s_exact*100.0,'%')"
   ]
  },
  {
   "cell_type": "markdown",
   "metadata": {},
   "source": [
    "Let's try this again over a larger temperature range"
   ]
  },
  {
   "cell_type": "code",
   "execution_count": 20,
   "metadata": {},
   "outputs": [
    {
     "name": "stdout",
     "output_type": "stream",
     "text": [
      "Exact specific entropy change = 0.8525431309016185 kJ/(kg*K)\n",
      "Approximate specific entropy change = 0.8541836609969639 kJ/(kg*K)\n",
      "Relative error = 0.19242781225748037 %\n"
     ]
    }
   ],
   "source": [
    "# state 1\n",
    "state1 = ct.Solution('air.xml', 'air')      # create air object\n",
    "T1 = 20 + 273.15       # temperature [K]\n",
    "P1 = 100.0e3           # pressure [Pa]\n",
    "state1.TP = T1, P1     # set temperature and pressure\n",
    "v1 = state1.v          # specific volume [m^3/kg]\n",
    "s1 = state1.s          # specific entropy [J/(kg*K)]\n",
    "\n",
    "# state 2\n",
    "state2 = ct.Solution('air.xml', 'air')      # create air object\n",
    "T2 = 400+ 273.15       # temperature [K]\n",
    "P2 = 100.0e3           # pressure [Pa]\n",
    "state2.TP = T2, P2     # set temperature and pressure\n",
    "v2 = state2.v          # specific volume [m^3/kg]\n",
    "s2 = state2.s          # specific entropy [J/(kg*K)]\n",
    "\n",
    "s_exact = s2 - s1      # change in specific entropy [J/(kg*K)]\n",
    "\n",
    "print('Exact specific entropy change =',s_exact/1000.0,'kJ/(kg*K)')\n",
    "\n",
    "# use approximate formula with average specific heat\n",
    "state3 = ct.Solution('air.xml', 'air')      # create air object\n",
    "T3 = (T1+T2)/2.0       # temperature [K]\n",
    "P3 = 100.0e3           # pressure [Pa]\n",
    "state3.TP = T3, P3     # set temperature and pressure\n",
    "cp_avg = state3.cp     # specific heat at constant pressure [J/kg]\n",
    "cv_avg = state3.cv     # specific heat at constant volume [J/kg]\n",
    "R = cp_avg - cv_avg    # gas constant [J/kg]\n",
    "\n",
    "s_approx = cv_avg*np.log(T2/T1) + R*np.log(v2/v1)  # change in specific entropy [J/(kg*K)]\n",
    "print('Approximate specific entropy change =',s_approx/1000.0,'kJ/(kg*K)')\n",
    "\n",
    "print('Relative error =',(s_approx-s_exact)/s_exact*100.0,'%')"
   ]
  }
 ],
 "metadata": {
  "kernelspec": {
   "display_name": "Python 3",
   "language": "python",
   "name": "python3"
  },
  "language_info": {
   "codemirror_mode": {
    "name": "ipython",
    "version": 3
   },
   "file_extension": ".py",
   "mimetype": "text/x-python",
   "name": "python",
   "nbconvert_exporter": "python",
   "pygments_lexer": "ipython3",
   "version": "3.7.4"
  }
 },
 "nbformat": 4,
 "nbformat_minor": 2
}
