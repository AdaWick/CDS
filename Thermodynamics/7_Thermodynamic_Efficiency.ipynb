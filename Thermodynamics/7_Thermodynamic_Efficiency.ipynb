{
 "cells": [
  {
   "cell_type": "markdown",
   "metadata": {},
   "source": [
    "###### Content under Creative Commons Attribution license CC-BY 4.0, code under BSD 3-Clause License © 2020 Adam Wickenheiser"
   ]
  },
  {
   "cell_type": "markdown",
   "metadata": {},
   "source": [
    "# Maximizing Thermodynamic Efficiency"
   ]
  },
  {
   "cell_type": "markdown",
   "metadata": {},
   "source": [
    "This module, consisting of 4 lessons, introduces the idea of *quality* to our discussion of energy we developed in the previous module.  We first think of energy as a quantity: how many joules of energy does it take to move a car a certain distance or to heat up a certain amount of food, for example.  It turns out that this is not a complete picture.  The air in your room contains a large amount of energy in the form of the kinetic and vibrational energy of the molecules making up the air.  However, it is not really practical to try to harness this energy to do something productive.  Another comparison is a small amount of flowing water vs. a large amount of still water.  They may store the same amount of total kinetic energy, but the first case is more useful for hydroelectric energy conversion.\n",
    "\n",
    "In this lesson, we introduce the idea of *efficiency*, which we use as a comparitive: how well does our proposed design match up with the theoretical \"best\" design for a given scenario.  To do this, we will have to determine a way to calculate the \"best\" design, even if it can't actually be built.  This still has practical value though; it gives you a \"gold standard\" to compare any practical design against, and hence a means of comparing any two practical designs against each other."
   ]
  },
  {
   "cell_type": "markdown",
   "metadata": {},
   "source": [
    "## Learning objectives:\n",
    "\n",
    "1. To be able to describe the theoretical and practical barriers to achieving 100% conversion of heat into useful work.\n",
    "1. To be able to distinguish between reversible and irreversible processes and what difference this makes in the efficiecy of a process.\n",
    "1. To be able to describe why both a hot and a cold reservoir are required to produce work from heat or to heat/cool and interior space.\n",
    "1. To be able to calculate the efficiency of common thermodynamic cycles such as power generators, heat pumps, and refrigerators.\n",
    "1. To be able to describe the Carnot Cycle as an ideal thermodynamic cycle with maximum efficiency."
   ]
  },
  {
   "cell_type": "markdown",
   "metadata": {},
   "source": [
    "## Contents:\n",
    "\n",
    "1. [How much energy does it take to heat a house?](#heathouse)\n",
    "1. [Reversible and Irreversible Processes](#rev)\n",
    "1. [Efficiency and Maximum Efficiency](#eff)\n",
    "1. [The Carnot Cycle: A Model for Maximum Efficiency](#carnot)"
   ]
  },
  {
   "cell_type": "markdown",
   "metadata": {},
   "source": [
    "<a id='heathouse'></a>\n",
    "\n",
    "### How much energy does it take to heat a house?\n",
    "\n",
    "Let's start with the question posed above: How much energy does it take to heat a house?  If a house were perfectly insulated, no heat would escape, and so theoretically it wouldn't take any energy to maintain a constant indoor temperature.  Of course, a house isn't perfectly insulated, and so some heat escapes based on the materials and thicknesses of the walls and the temperature difference between inside and outside.  This is the essense of design for heat conduction, one of the fundamental processes in the study of Heat Transfer.  In this lesson, we will assume the rate of heat loss is known and try to design a heating system to combat it.\n",
    "\n",
    "Let's define a few variables:\n",
    "\n",
    "$T_L$ - the low temperature reservoir, in this case the outside temperature\n",
    "$T_H$ - the high temperature reservoir, in this case the inside of the house\n",
    "$\\dot{Q}_{loss}$ - the heat loss rate through the walls of the house\n",
    "\n",
    "By **reservoir** we mean a large body of fluid (usually air or water) at a fixed temperature from which heat can be transferred without changing its temperature.  We assume each of these 3 variables are fixed, known values.\n",
    "\n",
    "<img src=\"../images/house heating.png\" width=\"500\">\n",
    "\n",
    "Let's assume the following values: $T_L = 10 ^\\circ C$, $T_H = 25 ^\\circ C$, and $\\dot{Q}_{loss} = 17 kW$.  So, if the house is losing heat at a rate of $17 kW$, how much power is required to keep the inside temperature constant?  It makes sense that it would require $17 kW$ of power to do this, in light of the following diagram:\n",
    "\n",
    "<img src=\"../images/house heating energy balance.png\" width=\"300\">\n",
    "\n",
    "It stands to reason that the if the energy in equals the energy out, then the enegy within the system should remain constant, which is absolutely true.  However, it is *not* true that all of the energy input has to come from electrical energy."
   ]
  },
  {
   "cell_type": "markdown",
   "metadata": {},
   "source": [
    "Let's look at a device called a **heat pump**.  The following diagram shows the components that make up the heat pump and its thermodynamic cycle.\n",
    "\n",
    "<img src=\"../images/heat pump.png\" width=\"500\">\n",
    "\n",
    "The heat pump works exactly the same way as a refrigerator: it takes energy from a cold reservoir and expels it into a warm reservoir.  Thus, both a heat pump and a refrigerator are designed to combat the natural tendency of warm spaces to cool off and cold spaces to warm up, so that everything reaches a thermal equilibrium.  The difference is a refrigerator is designed to maintain the cold space at a specific temperature regardless of the surrounding (wamer) temperature, whereas a heat pump is designed to maintain the warm space at a specific temperature regardless of the surrounding (colder) temperature.\n",
    "\n",
    "Let's analyze a specific heat pump designed for the house heating situation described above.\n",
    "\n",
    "**Example:** A heat pump is designed to heat a house, providing heat at a rate of $\\dot{Q}_H = 17 kW$.  It uses R-134a as its working fluid, the evaporator operates at a pressure of $P_1 = P_4 = 345 kPa$, and the evaporator operates at a pressure of $P_2 = P_3 = 830 kPa$.  The refrigerant leaves the evaporator as a saturated vapor, leaves the condenser as a saturated liquid, and enters the condenser at $T_2 = 40 ^\\circ C$.  Find the power required to run the pump, and the rate of heat transfer from the cold reservoir."
   ]
  },
  {
   "cell_type": "code",
   "execution_count": 1,
   "metadata": {},
   "outputs": [],
   "source": [
    "import numpy as np\n",
    "import matplotlib.pyplot as plt\n",
    "import cantera as ct"
   ]
  },
  {
   "cell_type": "code",
   "execution_count": 2,
   "metadata": {},
   "outputs": [
    {
     "name": "stdout",
     "output_type": "stream",
     "text": [
      "Compressor power = -2.159003245359283 kW\n",
      "Condenser heat transfer rate = -17.0 kW\n",
      "Evaporator heat transfer rate = 14.840996754640717 kW\n",
      "Condenser temperature = 32.62661489646297 C\n",
      "Evaporator temperature = 4.614814717501247 C\n"
     ]
    }
   ],
   "source": [
    "QHdot = -17.0e3\n",
    "\n",
    "# state 1\n",
    "state1 = ct.Hfc134a()  # create Hfc134a object\n",
    "P1 = 345.0e3            # pressure [Pa]\n",
    "x1 = 1.0               # quality\n",
    "state1.PX = P1, x1     # set pressure and quality\n",
    "h1 = state1.h          # specific enthalpy [J/kg]\n",
    "T1 = state1.T\n",
    "\n",
    "# state 2\n",
    "state2 = ct.Hfc134a()  # create Hfc134a object\n",
    "P2 = 830.0e3            # pressure [Pa]\n",
    "T2 = 40 + 273.15       # temperature [K]\n",
    "state2.TP = T2, P2     # set temperature and pressure\n",
    "h2 = state2.h          # specific enthalpy [J/kg]\n",
    "\n",
    "# state 3\n",
    "state3 = ct.Hfc134a()  # create Hfc134a object\n",
    "P3 = P2                # pressure [Pa]\n",
    "x3 = 0.0               # quality\n",
    "state3.PX = P3, x3     # set pressure and quality\n",
    "h3 = state3.h          # specific enthalpy [J/kg]\n",
    "T3 = state3.T\n",
    "\n",
    "# state 4\n",
    "state4 = ct.Hfc134a()  # create Hfc134a object\n",
    "P4 = P1                # pressure [Pa]\n",
    "h4 = h3                # temperature [K]\n",
    "state4.HP = h4, P4     # set specific enthalpy and pressure\n",
    "h4 = state4.h          # specific enthalpy [J/kg]\n",
    "\n",
    "mdot = QHdot/(h3-h2)        # mass flow rate [kg/s]\n",
    "Wdot = mdot*(h1-h2)         # compressor power [W]\n",
    "Qdot_cond = mdot*(h3-h2)    # condenser heat transfer rate [W]\n",
    "Qdot_evap = mdot*(h1-h4)    # evaporator heat transfer rate [W]\n",
    "\n",
    "print('Compressor power =',Wdot/1000.0,'kW')\n",
    "print('Condenser heat transfer rate =',Qdot_cond/1000.0,'kW')\n",
    "print('Evaporator heat transfer rate =',Qdot_evap/1000.0,'kW')\n",
    "print('Condenser temperature =',T3 - 273.15,'C')\n",
    "print('Evaporator temperature =',T1 - 273.15,'C')"
   ]
  },
  {
   "cell_type": "markdown",
   "metadata": {},
   "source": [
    "These results show that the pump only requires $2.16 kW$ of power to heat the house.  The rest of the power is being pulled from the air outside into the evaporator at a rate of $14.84 kW$.  So, the flow of energy into the house using a heat pump looks like this:\n",
    "\n",
    "<img src=\"../images/house heating with heat pump.png\" width=\"500\">\n",
    "\n",
    "First, we can see that, indeed, the house must receive heat at a rate of $17 kW$ to balance out the heat loss in order to maintain a constant indoor temperature.  As discussed in the previous lesson, **Conservation of energy** tells us that\n",
    "\n",
    "$\\dot{E}_{in} - \\dot{E}_{out} = \\dot{E}_{CV}$\n",
    "\n",
    "where $\\dot{E}_{in}$ is the rate of energy entering the control volume, $\\dot{E}_{out}$ is the rate of energy leaving the control volume, and $\\dot{E}_{CV}$ is the rate of change of energy in the control volume.\n",
    "\n",
    "If we make the steady-state assumption, we get $\\dot{E}_{CV} = 0$, and so we can write\n",
    "\n",
    "$\\dot{E}_{in} = \\dot{E}_{out}$\n",
    "\n",
    "If we consider the **control volume** for the house, this means that $\\dot{E}_{in} = 17 kW$ must equal $\\dot{E}_{out} = 17 kW$.\n",
    "\n",
    "For the heat pump, this means that $\\dot{E}_{in} = 14.84 + 2.16 kW$ must equal $\\dot{E}_{out} = 17 kW$.\n",
    "\n",
    "So no where is the principle of conservation of energy being violated.  The advantage of the heat pump is that the majority of the energy needed to heat the house is drawn from the outdoors (which is free energy!) rather than from electricity.\n",
    "\n",
    "How do we pull this off?  We take advantage of the fact that the refrigerant is naturally very cold at atmospheric pressures or even a little above.  In this example, the evaporator is operating at $P_1 = 345 kPa$ and $T_4 = 4 ^\\circ C$, which is colder than the outside temperature.  Thus, heat flows from the outside into the evaporator, which evaporates the refrigerant from a liquid-vapor mixture to a saturated vapor.  Pumping the refrigerant raises its temperature to $T_2 = 40 ^\\circ C$ without much work (only $2.16 kW$), which is hotter than the desired indoor temperature.  Heat is then lost to the indoors through the condenser.  The expansion valve reduces the refrigerant back to $T_4 = 4 ^\\circ C$ without requiring any work.  Then the cycle repeats."
   ]
  },
  {
   "cell_type": "markdown",
   "metadata": {},
   "source": [
    "<a id='rev'></a>\n",
    "\n",
    "### Reversible and Irreversible Processes\n",
    "\n",
    "You may be wondering at this point if we can design an even more efficient heat pump for this house.  After all, the pressures and temperatures of the condenser and evaporator were just given; there's no reason why different values couldn't be chosen.  The evaporator temperature must be lower than the outdoor temperature for heat to flow into the evaporator; similarly, the condenser temperature must be hotter than the indoor temperature for heat to flow into the house.  Other than that, we are free to play around with the values.  Even if you keep all of the pressures and temperatures the same, you might wonder if there is a more efficient pump that can pump the refrigerant from $P_1 = 345 kPa$ up to $P_2 = 800 kPa$.  This lesson and the next will give you the analysis tools to answer these questions.\n",
    "\n",
    "As a first thought, you may wonder if the required pump power can be made arbitrarily small.  For example, what if it were 0?  Then we would have the following situation:\n",
    "\n",
    "<img src=\"../images/house heating no work.png\" width=\"400\">\n",
    "\n",
    "This would mean that heat flows into and out of the house at the same rate, without any external work or coersion, maintaining the temperature of the indoors constant.  However, we know this situation is impossible, just like a hot cup of coffee does not stay hot forever in a cooler room by exchanging equal amounts of energy with it.  Naturally, energy flows from the hot substance to the colder one, not the other way around.  The cup of coffee will naturally cool until it matches the temperature of the room, heating the room slightly, but it will not spontaneously heat itself while cooling the room slightly.\n",
    "\n",
    "Why does heat only flow in one direction?  Let's look at the particle simulation of a hot fluid (top) coming into contact with a cold fluid (bottom):\n",
    "\n",
    "<img src=\"../images/gas mixing.gif\" width=\"300\">\n",
    "\n",
    "Now, what happens if we reverse the video:\n",
    "\n",
    "<img src=\"../images/gas mixing reversed.gif\" width=\"300\">\n",
    "\n",
    "The reversed video does not seem odd until the very end, when the green (initially faster moving) particles all end up in the upper half.  Physical laws like Conservation of Mass, Energy, Momentum, etc. work both forwards and backwards in time, so neither animation violates basic principles.  However, the reversed-time scenario is *statistically unlikely* to occur naturally.  In fact, it so improbable that it is unlikely to happen even once in the entire lifespan of the universe!\n",
    "\n",
    "This is an example of an **irreversible process**: one that, yes, is physically possible, but is so unlikely to occur that it may as well be impossible.  Thus, at least *some* energy is required to run the heat pump needed to heat the house in our previous example.  This concept is summarized by the following statement:"
   ]
  },
  {
   "cell_type": "markdown",
   "metadata": {},
   "source": [
    "**Clausius Statement:** A cyclic device cannot tranfer heat from low to high temperature bodies without work input from the environment\n",
    "\n",
    "Since the heat pump is a cyclic device (the working fluid R-134a goes through a complete thermodynamic cycle, returning to its original state) some external work is required to make it operate, in this case supplied by electricity."
   ]
  },
  {
   "cell_type": "markdown",
   "metadata": {},
   "source": [
    "Here is another example of a thermodynamic cycle we've seen before:\n",
    "\n",
    "<img src=\"../images/ideal gas turbine ex.png\" width=\"600\">\n",
    "\n",
    "Here, heat from e.g. buring coal or nuclear fission evaporates water, which passed through a turbine to produce electricity.  However, the steam must be cooled back down into a liquid to be pumped up to high pressure again; this cooling releases heat into the environment in the condenser.  An easy and effective way to cool something is to run cold water over it; this is why most power plants are built next to rivers, where cold running water is freely available.  The following statement clarifies this requirement:"
   ]
  },
  {
   "cell_type": "markdown",
   "metadata": {},
   "source": [
    "**Kelvin-Planck Statement:** A cyclic device cannot receive heat from a single reservoir and produce work\n",
    "\n",
    "Thus, a power plant cannot take heat from combustion/fission and produce work (electricity) without releasing some heat to the environment, for example by releasing it into a river or the atmosphere.  A power plant as just described is an example of a **heat engine** a system that takes heat from a high temperature source, produces useful work (mechanical or electrical), then (necessarily) rejects some waste heat into the environment.\n",
    "\n",
    "In fact, the Clausius and Kelvin-Planck Statements are equivalent, as shown below:\n",
    "\n",
    "<img src=\"../images/second law violations.png\" width=\"600\">\n",
    "\n",
    "On the left, assume there is a way to produce work from a heat source without having to exhaust any heat to the environment (for example, a power plant that does not use river water for cooling).  This is a violation of the Kelvin-Planck Statement.  Then the work produced must be equal to the heat absorbed, so $W = Q_H$.  Let's say this work is used to power a heat pump, which draws heat from the cold environment and uses it to heat the warm environment, like the house above.  Then the total heat transferred to the warm environment must be $Q_H+Q_H$, the total energy input to the heat pump.\n",
    "\n",
    "The total heat being drawn from the cold environment is $Q_L$, and the total heat transferred to the cold environment is $-Q_H + (Q_H+Q_L) = Q_L$ (note the direction of the arrows).  This is equivalent to the right-hand side, where a heat pump is used to pump heat from a cold reservoir to a warm one without requiring any work!  This is a violation of the Clausius Statement.\n",
    "\n",
    "We can also run this argument backwards: starting with the violation of the Clausius Statement on the right-hand side, we can draw up a violation of the Kelvin-Planck Statement on the left.  Therefore, both statements are equivalent!  These statements are known as the **Second Law of Thermodynamics**."
   ]
  },
  {
   "cell_type": "markdown",
   "metadata": {},
   "source": [
    "<a id='eff'></a>\n",
    "\n",
    "### Efficiency and Maximum Efficiency\n",
    "\n",
    "How do we compare two different heat pumps or heat engines operating between two given temperature reservoirs?  The one we analyzed for heating the house seems pretty efficient: it only requires $2.16 kW$ of electricity to provide $17 kW$ of heat to the house.\n",
    "\n",
    "Let's define the **coefficient of performance** for the heat pump as follows:\n",
    "\n",
    "$COP_{HP} = \\dfrac{\\text{desired output}}{\\text{required input}} = \\dfrac{Q_H}{W_{net,in}}$\n",
    "\n",
    "where $Q_H$ is the heat transferred to the high temperature reservoir (the inside of the house, in this case), and $W{net,in}$ is the net work (electrical, in this case) input to the cycle.\n",
    "\n",
    "From conservation of energy, we get $Q - W = \\Delta E$, but for a cycle $\\Delta E = 0$ (the working fluid returns to its original state in a cycle, by definition).  Recall the convention that $Q$ is the heat transferred *to* the system, while $W$ is the work done *by* the system.  Thus, $W_{net,in} = -W = -Q = -(Q_L - Q_H) = Q_H - Q_L$.  Therefore,\n",
    "\n",
    "$COP_{HP} = \\dfrac{Q_H}{Q_H - Q_L} = \\dfrac{1}{1 - Q_L/Q_H}$\n",
    "\n",
    "If the device is operating in steady-state, we can write this ratio as\n",
    "\n",
    "$COP_{HP} = \\dfrac{\\dot{Q}_H}{\\dot{W}_{net,in}} = \\dfrac{1}{1 - \\dot{Q}_L/\\dot{Q}_H}$\n",
    "\n",
    "For our example, we have\n",
    "\n",
    "$COP_{HP} = \\dfrac{\\dot{Q}_H}{\\dot{W}_{net,in}} = \\dfrac{17 kW}{2.16 kW} = 7.87$\n",
    "\n",
    "From the definition, we can see that a higher $COP$ is better!\n",
    "\n",
    "Refrigerators act like heat pumps: using work to take heat from a cold reservoir (the inside of the refrigerator) and reject it to a hot reservoir (the space outside the refrigerator).  However, in the case of refrigerators we are more interested in the heat drawn from the cold reservior, so we define the coefficient of performance for refrigerators slightly differently:\n",
    "\n",
    "$COP_R = \\dfrac{\\text{desired output}}{\\text{required input}} = \\dfrac{Q_L}{W_{net,in}}$\n",
    "\n",
    "where $Q_L$ is the heat transferred from the low temperature reservoir, and $W_{net,in}$ is the net work (electrical in most cases) input to the cycle.  Conservation of energy gives us the same result as with heat pumps: $W_{net,in} = Q_H - Q_L$.  Therefore,\n",
    "\n",
    "$COP_R = \\dfrac{Q_L}{Q_H - Q_L} = \\dfrac{1}{Q_H/Q_L - 1}$\n",
    "\n",
    "If the device is operating in steady-state, we can write this ratio as\n",
    "\n",
    "$COP_R = \\dfrac{\\dot{Q}_L}{\\dot{W}_{net,in}} = \\dfrac{1}{\\dot{Q}_H/\\dot{Q}_L - 1}$\n",
    "\n",
    "Heat engines are handled slightly differently since work is the deisred output, and they should use the least amount of heat input (from burning coal or nuclear fission) possible.  With this in mind, let's define the **thermal efficiency** for the heat engine as follows:\n",
    "\n",
    "$\\eta_{th} = \\dfrac{\\text{desired output}}{\\text{required input}} = \\dfrac{W_{net,out}}{Q_H}$\n",
    "\n",
    "From conservation of energy, we get $Q - W = \\Delta E$, but for a cycle $\\Delta E = 0$.  Recall the convention that $Q$ is the heat transferred *to* the system, while $W$ is the work done *by* the system.  Thus, $W_{net,out} = W = Q = Q_H - Q_L$.  Therefore,\n",
    "\n",
    "$\\eta_{th} = \\dfrac{Q_H-Q_L}{Q_H} = 1 - \\dfrac{Q_L}{Q_H}$\n",
    "\n",
    "If the device is operating in steady-state, we can write this as\n",
    "\n",
    "$\\eta_{th} = \\dfrac{\\dot{W}_{net,out}}{\\dot{Q}_H} = 1 - \\dfrac{\\dot{Q}_L}{\\dot{Q}_H}$\n",
    "\n",
    "These three cyclic devices are summarized in the following figure:\n",
    "\n",
    "<img src=\"../images/thermal efficiency.png\" width=\"800\">"
   ]
  },
  {
   "cell_type": "markdown",
   "metadata": {},
   "source": [
    "So, what is the maximum efficiency possible?  We've already stated that 100% efficiency is impossible; a heat engine must reject at least some heat into the environment.  To answer this, we turn to two statements known as **Carnot Principles**:\n",
    "\n",
    "1. Between two temperature reservoirs, a reversible heat engine is more efficient than an irreversible heat engine.\n",
    "1. Between two temperature reservoirs, any two reversible heat engines have the same efficiency\n",
    "\n",
    "What makes a process irreversible?  We already saw one example: heat transfer between hot and cold bodies.  This process naturally occurs in one direction but not the other.  Friction is another example: friction will cause a moving body to come to rest, but a body at rest will not spontaneously start moving.  A good rule of thumb is to imagine a video of the process: is the video plausible playing either forward or in reverse?  As you may have guessed, all processes are irreversible to some extent.\n",
    "\n",
    "The first Carnot Principle can be <a href=\"https://en.wikipedia.org/wiki/Carnot%27s_theorem_(thermodynamics)\">proven by contradiction</a>: if it were false it would violate the Clausius Statement.  The second statement follows from the first: if $A$ and $B$ are two reversible heat engines, then we must have $\\eta_{th,A} \\leq \\eta_{th,B}$ and $\\eta_{th,B} \\leq \\eta_{th,A}$, and so $\\eta_{th,A} = \\eta_{th,B}$.\n",
    "\n",
    "Therefore, the efficiency of a reversible heat engine can only be a function of temperature.  This leads to\n",
    "\n",
    "$\\eta_{th,rev} = 1 - \\dfrac{Q_L}{Q_H} = 1 - \\dfrac{f(T_L)}{f(T_H)}$\n",
    "\n",
    "where $f(T)$ is some function.  Since there is no restriction on this function, we can choose $f(T) = T$.  Then\n",
    "\n",
    "$\\eta_{th,rev} = 1 - \\dfrac{T_L}{T_H}$\n",
    "\n",
    "This is the maximum possible efficiency for a heat engine running between reservoirs with these temperatures.  Please note that temperature in this equation *must be in absolute units*, for example Kelvin.\n",
    "\n",
    "Using this relationship, we can write down the coefficients of performance for a reversible heat pump and refrigerator:\n",
    "\n",
    "$COP_{HP,rev} = \\dfrac{1}{1 - Q_L/Q_H} = \\dfrac{1}{1 - T_L/T_H}$\n",
    "\n",
    "$COP_{R,rev} = \\dfrac{1}{Q_H/Q_L - 1} = \\dfrac{1}{T_H/T_L - 1}$\n",
    "\n",
    "In the house heating example, we have $T_L = 10 ^\\circ C = 283.15 K$ and $T_H = 25 ^\\circ C = 298.15 K$.  Therefore, the maximum $COP$ for this scenario, i.e. the $COP$ for a reversible heat pump, is\n",
    "\n",
    "$COP_{R,rev} = \\dfrac{1}{T_H/T_L - 1} = \\dfrac{1}{\\frac{298.15 K}{283.15 K} - 1} = 18.88$\n",
    "\n",
    "Let's compare this to the $COP$ of the heat pump we analyzed: $COP_{HP} = 7.87$.  This tells us that there is room for improvement, but of course attaining the maximum value is impossible.  It would require removing all friction, viscosity, and heat transfer from the system."
   ]
  },
  {
   "cell_type": "markdown",
   "metadata": {},
   "source": [
    "Let's write a function to determine if a given heat engine is reversible, irreversible, or impossible (i.e. its efficiency is greater than the maximum possible).  The thermal efficiency of a heat engine is given by\n",
    "\n",
    "$\\eta_{th} = 1 - \\dfrac{Q_L}{Q_H}$\n",
    "\n",
    "and the thermal efficiency of a reversible heat engine is\n",
    "\n",
    "$\\eta_{th,rev} = 1 - \\dfrac{T_L}{T_H}$\n",
    "\n",
    "By the first Carnot Principle, reversible heat engines have the highest efficiency among all heat engines between given temperature reservoirs, so we must have $\\eta_{th} \\leq \\eta_{th,rev}$, which means\n",
    "\n",
    "$\\dfrac{T_L}{T_H} \\leq \\dfrac{Q_L}{Q_H}$\n",
    "\n",
    "So, we have the following three possibilities:\n",
    "\n",
    "1. $\\eta_{th} < \\eta_{th,rev}$ or $\\dfrac{T_L}{T_H} < \\dfrac{Q_L}{Q_H}$ (irreversible)\n",
    "1. $\\eta_{th} = \\eta_{th,rev}$ or $\\dfrac{T_L}{T_H} = \\dfrac{Q_L}{Q_H}$ (reversible)\n",
    "1. $\\eta_{th} > \\eta_{th,rev}$ or $\\dfrac{T_L}{T_H} > \\dfrac{Q_L}{Q_H}$ (impossible)"
   ]
  },
  {
   "cell_type": "code",
   "execution_count": 3,
   "metadata": {},
   "outputs": [],
   "source": [
    "def heat_engine_eta(QL,QH,TL,TH):\n",
    "    \n",
    "    eta = 1 - QL/QH         # thermal efficiency\n",
    "    eta_rev = 1 - TL/TH     # thermal efficiency of a reversible heat pump\n",
    "    \n",
    "    if eta < eta_rev:\n",
    "        print('Heat engine is irreversible')\n",
    "    elif eta == eta_rev:\n",
    "        print('Heat engine is reversible')\n",
    "    else:\n",
    "        print('Heat engine is impossible')\n",
    "    \n",
    "    return eta"
   ]
  },
  {
   "cell_type": "code",
   "execution_count": 4,
   "metadata": {},
   "outputs": [
    {
     "name": "stdout",
     "output_type": "stream",
     "text": [
      "Example 1\n",
      "Heat engine is irreversible\n",
      "Thermal efficiency = 0.5\n",
      "Example 2\n",
      "Heat engine is reversible\n",
      "Thermal efficiency = 0.4\n",
      "Example 3\n",
      "Heat engine is impossible\n",
      "Thermal efficiency = 0.4\n"
     ]
    }
   ],
   "source": [
    "# example 1\n",
    "QL = 500.0        # heat transferred to low-temperature reservior [kJ]\n",
    "QH = 1000.0       # heat transferred from high-temperature reservior [kJ]\n",
    "TL = 100.0        # low temperature [K]\n",
    "TH = 500.0        # high temperature [K]\n",
    "\n",
    "print('Example 1')\n",
    "eta = heat_engine_eta(QL,QH,TL,TH)   # thermal efficiency\n",
    "print('Thermal efficiency =',eta)\n",
    "\n",
    "\n",
    "# example 2\n",
    "QL = 600.0        # heat transferred to low-temperature reservior [kJ]\n",
    "QH = 1000.0       # heat transferred from high-temperature reservior [kJ]\n",
    "TL = 300.0        # low temperature [K]\n",
    "TH = 500.0        # high temperature [K]\n",
    "\n",
    "print('Example 2')\n",
    "eta = heat_engine_eta(QL,QH,TL,TH)   # thermal efficiency\n",
    "print('Thermal efficiency =',eta)\n",
    "\n",
    "\n",
    "# example 3\n",
    "QL = 600.0        # heat transferred to low-temperature reservior [kJ]\n",
    "QH = 1000.0       # heat transferred from high-temperature reservior [kJ]\n",
    "TL = 400.0        # low temperature [K]\n",
    "TH = 500.0        # high temperature [K]\n",
    "\n",
    "print('Example 3')\n",
    "eta = heat_engine_eta(QL,QH,TL,TH)   # thermal efficiency\n",
    "print('Thermal efficiency =',eta)"
   ]
  },
  {
   "cell_type": "markdown",
   "metadata": {},
   "source": [
    "<a id='carnot'></a>\n",
    "\n",
    "### The Carnot Cycle: A Model for Maximum Efficiency\n",
    "\n",
    "Can we imagine a heat engine that is completely reversible, and hence has the maximum efficiency among all heat engines between two given temperature reservoirs?  As we previously mentioned, friction and heat transfer between hot and cold bodies are irreversible processes, and so if we can minimize these we can (theoretically) approach a reversible process or cycle.  Although this cannot be attained in practice, it provides an upper bound to the expected thermal efficiency of any given heat engine.\n",
    "\n",
    "The **Carnot Cycle** is a 4-step heat engine in which each step is theoretically reversible, and so its thermal efficiency is the maximum possible.  Like other heat engines, it takes in heat energy from a high-temperature reservoir, does some useful work, then rejects heat energy to a low-temperature reservoir.\n",
    "\n",
    "The Carnot Cycle for heat engines is composed of the following four processes, each of which is necessarily reversible to make the whole cycle reversible:\n",
    "\n",
    "1. **Reversible Isothermal Expansion:** The gas in the cylinder is in thermal equilibrium with the high temperature reservoir at $T_H$; however, the pressure inside the cylinder is greater than the surroundings, and so it expands.  As it expands, the gas cools a small amount, and so, since the reservoir is now warmer than the gas, some heat is transferred into the cylinder.  If the expansion is slow enough, the temperature of the gas remains constant.  This process is theoretically reversible; as the gas is compressed, it heats up a small amount and transfers a small amount of heat to the reservoir, thus maintaining a nearly constant temperature.\n",
    "1. **Reversible Adiabatic Expansion:** During this phase, the cylinder is insulated, so there can be no heat transfer to the surroundings.  The gas continues to expand, doing work on the surroundings, while cooling from $T_H$ to $T_L$.  This process can be reversed: the gas starts at $T_L$ and is compressed in an insulated cylinder until its temperature reaches $T_H$.\n",
    "1. **Reversible Isothermal Compression:** The gas in the cylinder is in thermal equilibrium with the low temperature reservoir at $T_L$; however, the pressure inside the cylinder is less than the surroundings, and so it compresses.  As it compresses, the gas warms a small amount, and so, since the reservoir is now colder than the gas, some heat is transferred out of the cylinder.  If the expansion is slow enough, the temperature of the gas remains constant.  Notice the similarity of this process with the first step.\n",
    "1. **Reversible Adiabatic Compression:** During this phase, the cylinder is insulated, so there can be no heat transfer to the surroundings.  The gas continues to compress, having work done on it by the surroundings, while warming from $T_L$ to $T_H$.  Notice the similarity of this process with the second step.\n",
    "\n",
    "<img src=\"../images/carnot cycle.png\" width=\"600\">"
   ]
  },
  {
   "cell_type": "markdown",
   "metadata": {},
   "source": [
    "Let's revisit the Otto cycle we studied previously and see how it compares to a theoretical Carnot cycle between the same two temperature extremes.  Here is the Otto cycle plotted on a P-v diagram, showing the net work output (the area inside the curve), and the steps where heat is added ($Q_H$) and rejected ($Q_L$) to the surroundings.\n",
    "\n",
    "<img src=\"../images/otto cycle with work.png\" width=\"500\">\n",
    "\n",
    "We previously derived a formula for the net work output per cycle when the expansion and compression processes are polytropic, i.e. $Pv^n = const.$:\n",
    "\n",
    "$W_{net,out} = \\dfrac{P_2V_2 - P_1V_1}{1-n} + \\dfrac{P_4V_4 - P_3V_3}{1-n}$\n",
    "\n",
    "or, if $n=1$,\n",
    "\n",
    "$W_{net,out} = P_3V_3 \\ln \\left(\\dfrac{V_4}{V_3} \\right) + P_1V_1 \\ln \\left(\\dfrac{V_2}{V_1} \\right)$\n",
    "\n",
    "(Note, if the expansion and compression processes are not polytropic, then the work can be found by numerical integration.)\n",
    "\n",
    "To compute the thermal efficiency of the Otto cycle, we also need to know the heat input.  Heat is input during the process $2 \\to 3$, which models the combustion step in a gasoline engine.  No work is done during this step (because the volume is constant), so conservation of energy gives\n",
    "\n",
    "$Q_H = m(u_3-u_2)$\n",
    "\n",
    "For an ideal gas with constant specific heats, we can simplify this as\n",
    "\n",
    "$Q_H = mc_v(T_3-T_2)$\n",
    "\n",
    "Let's used these formulas to compute the thermal efficiency of the Otto cycle examined previously, and compare it to a Carnot cycle between the same two temperature extremes."
   ]
  },
  {
   "cell_type": "markdown",
   "metadata": {},
   "source": [
    "**Example:** A piston-cylinder operates on the Otto cycle with a compression ratio $r = \\frac{v_1}{v_2} = 12$, pressure and temperature at the start of compression $P_1 = 1 atm$ and $T_1 = 18 ^\\circ C$, maximum temperature $T_3 = 1300 ^\\circ C$, and mass of gas $m = 0.004 kg$.  The expansion and compression steps can be modeled by $Pv^{1.5} = const.$  Compute the thermal efficiency of this cycle, and compare it to a Carnot cycle between the same two temperature extremes."
   ]
  },
  {
   "cell_type": "code",
   "execution_count": 5,
   "metadata": {},
   "outputs": [
    {
     "name": "stdout",
     "output_type": "stream",
     "text": [
      "Thermal efficiency for the Otto cycle = 0.4553917178919074\n",
      "Thermal efficiency for an equivalent Carnot cycle = 0.8149254680100435\n"
     ]
    }
   ],
   "source": [
    "m = 0.004                     # mass [kg]\n",
    "T1 = 18.0 + 273.15            # temperature [K]\n",
    "P1 = 1.0*101325.0             # pressure [Pa]\n",
    "T3 = 1300.0 + 273.15          # temperature [K]\n",
    "r = 12.0                      # compression ratio\n",
    "n = 1.5                       # polytropic process exponent\n",
    "\n",
    "# state 1\n",
    "state1 = ct.Solution('air.xml', 'air')      # create air object\n",
    "state1.TP = T1, P1                          # set temperature and pressure\n",
    "v1 = state1.v                               # specific volume [m^3/kg]\n",
    "\n",
    "# state 2\n",
    "state2 = ct.Solution('air.xml', 'air')      # create air object\n",
    "v2 = v1/r                                   # specific volume, using compression ratio [m^3/kg]\n",
    "P2 = P1*(v1/v2)**n                          # pressure, using polytropic process equation [Pa]\n",
    "state2.DP = 1/v2, P2                        # set density and pressure\n",
    "u2 = state2.u                               # specific internal energy [J/kg]\n",
    "\n",
    "# state 3\n",
    "state3 = ct.Solution('air.xml', 'air')      # create air object\n",
    "v3 = v2                                     # specific volume [m^3/kg]\n",
    "state3.TD = T3, 1/v3                        # set temperature and density\n",
    "P3 = state3.P                               # pressure [Pa]\n",
    "u3 = state3.u                               # specific internal energy [J/kg]\n",
    "\n",
    "# state 4\n",
    "state4 = ct.Solution('air.xml', 'air')      # create air object\n",
    "v4 = v1                                     # specific volume [m^3/kg]\n",
    "P4 = P3*(v3/v4)**n                          # pressure, using polytropic process equation [Pa]\n",
    "state4.DP = 1/v4, P4                        # set density and pressure\n",
    "\n",
    "# compute work and heat transferred\n",
    "W_net_out = m*((P2*v2-P1*v1)/(1-n) + (P4*v4-P3*v3)/(1-n))    # net work output [J]\n",
    "QH = m*(u3-u2)                                               # heat input [J]\n",
    "\n",
    "# compute thermal efficiencies\n",
    "eta_th = W_net_out/QH           # thermal efficiency for the Otto cycle\n",
    "eta_th_rev = 1 - T1/T3          # thermal efficiency for an equivalent Carnot cycle\n",
    "\n",
    "print('Thermal efficiency for the Otto cycle =',eta_th)\n",
    "print('Thermal efficiency for an equivalent Carnot cycle =',eta_th_rev)"
   ]
  }
 ],
 "metadata": {
  "kernelspec": {
   "display_name": "Python 3",
   "language": "python",
   "name": "python3"
  },
  "language_info": {
   "codemirror_mode": {
    "name": "ipython",
    "version": 3
   },
   "file_extension": ".py",
   "mimetype": "text/x-python",
   "name": "python",
   "nbconvert_exporter": "python",
   "pygments_lexer": "ipython3",
   "version": "3.7.4"
  }
 },
 "nbformat": 4,
 "nbformat_minor": 2
}
