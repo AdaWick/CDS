{
 "cells": [
  {
   "cell_type": "markdown",
   "metadata": {},
   "source": [
    "###### Content under Creative Commons Attribution license CC-BY 4.0, code under BSD 3-Clause License © 2020 Adam Wickenheiser"
   ]
  },
  {
   "cell_type": "markdown",
   "metadata": {},
   "source": [
    "# Doing Work"
   ]
  },
  {
   "cell_type": "markdown",
   "metadata": {},
   "source": [
    "A classic example of a thermodynamic process doing useful work is an internal combustion engine, which is used to drive everything from a lawnmower to a cruise ship!"
   ]
  },
  {
   "cell_type": "code",
   "execution_count": 1,
   "metadata": {},
   "outputs": [
    {
     "data": {
      "text/html": [
       "<iframe width=\"560\" height=\"315\" src=\"https://www.youtube.com/embed/CaVXe3Gxomo\" frameborder=\"0\" allow=\"accelerometer; autoplay; encrypted-media; gyroscope; picture-in-picture\" allowfullscreen></iframe>"
      ],
      "text/plain": [
       "<IPython.core.display.HTML object>"
      ]
     },
     "execution_count": 1,
     "metadata": {},
     "output_type": "execute_result"
    }
   ],
   "source": [
    "from IPython.display import HTML\n",
    "\n",
    "HTML('<iframe width=\"560\" height=\"315\" src=\"https://www.youtube.com/embed/CaVXe3Gxomo\" frameborder=\"0\" allow=\"accelerometer; autoplay; encrypted-media; gyroscope; picture-in-picture\" allowfullscreen></iframe>')"
   ]
  },
  {
   "cell_type": "markdown",
   "metadata": {},
   "source": [
    "We will discuss the particulars of this cycle in a later lesson, but the common feature of this and other power cycles is the transfer of heat into useful work.  In this case, the fuel-air mixture combusts, which quickly transfers chemical energy into heating the mixture.  As we will see in this lesson, this heat causes a rise in pressure, which can be used to move the piston.  The piston is connected to a drivetrain that ultimately produces locomotion.\n",
    "\n",
    "In this lesson, we will focus on how heat can be transfered into useful work output."
   ]
  },
  {
   "cell_type": "markdown",
   "metadata": {},
   "source": [
    "## Learning objectives:\n",
    "\n",
    "1. To be able to calculate the work done in compressing a spring or piston\n",
    "1. To be able to write a balance of energy to determine how much energy is required to cause a desired temperature and volume change\n",
    "1. To be able to determine if a process is polytropic and calculate the work done\n",
    "1. To be able to write an energy balance when multiple forms of work are being done"
   ]
  },
  {
   "cell_type": "markdown",
   "metadata": {},
   "source": [
    "## Contents:\n",
    "\n",
    "1. [Calculating Mechanical Work Done](#mechwork)\n",
    "1. [Compression and Expansion of Ideal Gases](#idealgas)\n",
    "1. [Curve Fitting Polytropic Processes](#poly)"
   ]
  },
  {
   "cell_type": "markdown",
   "metadata": {},
   "source": [
    "<a id='mechwork'></a>\n",
    "\n",
    "### Calculating Mechanical Work Done\n",
    "\n",
    "When we write down an energy balance (the First Law of Thermodynamics), we write\n",
    "\n",
    "$Q - W = \\Delta E_{sys}$\n",
    "\n",
    "and we interpret this to mean the net heat transferred to a system ($Q$) minus the work done by the system ($W$) must be the change in energy of the system ($\\Delta E_{sys}$).\n",
    "\n",
    "Let's first look at the work term $W$.  In many systems, a gas or liquid is pressurized in order to push against a moving boundary, like a piston, to produce work.  However, there is usually a force that resists this motion: it may be gravity, an elastic membrane, a spring, or a mechanical linkage.\n",
    "\n",
    "We will start with something simple and familiar, a linear spring.  It's force-displacement curve is a straight line given by $F(x) = -kx$, where $F$ is the force the spring exerts, $x$ is its displacement from its relaxed length, and $k$ is the spring constant, which is just the proportional relationship between $F$ and $x$.  The negative sign indicates that the spring \"resists\" being deformed; it exerts a force in the opposite direction of its deflection.\n",
    "\n",
    "**Example:** The piston inside a tire pressure gauge is pushed from $x_1 = 0.02 m$ to $x_2 = 0.15m$, where we assume $x=0$ is the position at which the spring is relaxed.  The spring constant is measured to be $k = 10 N/m$.  Calculate how much work is done on the piston by the compressed air on its left.\n",
    "\n",
    "<img src=\"../images/tire pressure gauge ex.png\" width=\"500\" />\n",
    "\n",
    "If we draw a free body diagram of the piston, we get\n",
    "\n",
    "<img src=\"../images/tire pressure gauge fbd.png\" width=\"400\" />\n",
    "\n",
    "As with all thermodynamic processes, we assume that the piston is moving slowly enough to be in a quasiequilibrium state at all times.  (It turns out that in this case this assumption isn't necessary if the piston starts and stops with zero velocity.)  A balance of forces in the $x$-direction gives\n",
    "\n",
    "$F = -F_{spring} = -(-kx) = kx$\n",
    "\n",
    "In general, we calculate the work done in process from state 1 to state 2 as\n",
    "\n",
    "$W_{12} = \\int\\limits_1^2 \\delta W$\n",
    "\n",
    "where we are integrating $\\delta W$ along a particular path from $1$ to $2$.  This can be quite difficult to calculate mathematically in general, but in many practical situations, the path is easy to analyze.  In this case, the path is a straight line from $x_1$ to $x_2$.\n",
    "\n",
    "The increment of work is in general given by $\\delta W = \\mathbf{F}(\\mathbf{x}) \\cdot d\\mathbf{x}$ where $\\mathbf{F}$ is the force whose work you want to determine, and $\\mathbf{x}$ is the position at which the force is acting.  In this case, the force and displacement are both in the $+x$-direction, and so we get\n",
    "\n",
    "$W_{12} = \\int\\limits_{x_1}^{x_2} F(x)dx = \\int\\limits_{x_1}^{x_2} kxdx = \\dfrac{1}{2}k(x_2^2-x_1^2) = 0.11 J$"
   ]
  },
  {
   "cell_type": "markdown",
   "metadata": {},
   "source": [
    "Computing the work done during a process almost always involves evaluating an integral, except in the simplest cases.  In this example, we can evaulate the integral using a formula to get an exact answer, so it provides an opportunity to test a numerical method for doing the same.  The following figure shows the integral we need to compute $\\int\\limits_{x_1}^{x_2} kxdx$, and a numerical approximation of it:\n",
    "\n",
    "<img src=\"../images/spring force integration.png\" width=\"300\" />\n",
    "\n",
    "First, we need to load the library for numerical integration and quadrature, along with our usual favorites."
   ]
  },
  {
   "cell_type": "code",
   "execution_count": 2,
   "metadata": {},
   "outputs": [],
   "source": [
    "import numpy as np\n",
    "import matplotlib.pyplot as plt\n",
    "import cantera as ct\n",
    "import scipy.integrate as integrate"
   ]
  },
  {
   "cell_type": "code",
   "execution_count": 3,
   "metadata": {},
   "outputs": [],
   "source": [
    "k = 10.0                  # spring constant [N/m]\n",
    "\n",
    "def spring_force_fun(x):\n",
    "    \n",
    "    return k*x            # return F(x)"
   ]
  },
  {
   "cell_type": "code",
   "execution_count": 4,
   "metadata": {},
   "outputs": [
    {
     "name": "stdout",
     "output_type": "stream",
     "text": [
      "Work done to compress spring 0.1105 J\n"
     ]
    }
   ],
   "source": [
    "x1 = 0.02         # initial position [m]\n",
    "x2 = 0.15         # final position [m]\n",
    "W = integrate.quad(spring_force_fun,x1,x2)[0]\n",
    "\n",
    "print('Work done to compress spring',W,'J')"
   ]
  },
  {
   "cell_type": "markdown",
   "metadata": {},
   "source": [
    "So we can see that the numerical quadrature method has a relative error of about 0.5%."
   ]
  },
  {
   "cell_type": "markdown",
   "metadata": {},
   "source": [
    "Most mechanical systems do not behave as linear springs over their full range of motion.  For example, most metals tend to soften as the applied stress approaches their yield strength, as the following plot shows.\n",
    "\n",
    "<img src=\"../images/stress-strain diagram.png\" width=\"400\" />\n",
    "\n",
    "This behavior is known as \"strain softening\", meaning that after a certain point it becomes easier to deform.  One way to model this softening behavior is to add a cubic term to the spring force:\n",
    "\n",
    "$F(x) = -kx - \\alpha x^3$\n",
    "\n",
    "Let's plot this function for several values of $\\alpha$."
   ]
  },
  {
   "cell_type": "code",
   "execution_count": 5,
   "metadata": {},
   "outputs": [],
   "source": [
    "k = 10.0                  # spring constant [N/m]\n",
    "\n",
    "def cubic_spring_force_fun(x,alpha):\n",
    "    \n",
    "    return k*x - alpha*x**3            # return F(x)"
   ]
  },
  {
   "cell_type": "code",
   "execution_count": 6,
   "metadata": {},
   "outputs": [
    {
     "data": {
      "image/png": "[encoded data removed]",
      "text/plain": [
       "<Figure size 432x288 with 1 Axes>"
      ]
     },
     "metadata": {},
     "output_type": "display_data"
    }
   ],
   "source": [
    "alpha_array = np.array([0,10,100])\n",
    "x_array = np.linspace(0,0.2)\n",
    "for alpha in alpha_array:\n",
    "    plt.plot(x_array,cubic_spring_force_fun(x_array,alpha),label=r'$\\alpha = %d$' % alpha)\n",
    "plt.legend();"
   ]
  },
  {
   "cell_type": "markdown",
   "metadata": {},
   "source": [
    "#### Try it!\n",
    "\n",
    "Repeat the previous example but with $\\alpha = 100$.  Compare the exact answer to the one you get using numerical quadrature.  What is the percentage reduction in work done on the softening spring compared to the linear one?"
   ]
  },
  {
   "cell_type": "markdown",
   "metadata": {},
   "source": [
    "The exact solution can be computed using the following equation:\n",
    "\n",
    "$W_{12} = \\int\\limits_{x_1}^{x_2} F(x)dx = \\int\\limits_{x_1}^{x_2} (kx-\\alpha x^3)dx = \\dfrac{1}{2}k(x_2^2-x_1^2) - \\dfrac{1}{4}\\alpha(x_2^4-x_1^4) = 0.098 J$\n",
    "\n",
    "The following code computes the work done for both springs and calculates the relative difference:"
   ]
  },
  {
   "cell_type": "code",
   "execution_count": 7,
   "metadata": {},
   "outputs": [
    {
     "name": "stdout",
     "output_type": "stream",
     "text": [
      "Work done to compress linear spring 0.1105 J\n",
      "Work done to compress cubic spring 0.09784774999999998 J\n",
      "Relative difference -11.450000000000015 %\n"
     ]
    }
   ],
   "source": [
    "x1 = 0.02         # initial position [m]\n",
    "x2 = 0.15         # final position [m]\n",
    "\n",
    "# linear spring\n",
    "W_linear = integrate.quad(spring_force_fun,x1,x2)[0]\n",
    "print('Work done to compress linear spring',W_linear,'J')\n",
    "\n",
    "# cubic spring\n",
    "alpha = 100\n",
    "W_cubic = integrate.quad(cubic_spring_force_fun,x1,x2,args=alpha)[0]\n",
    "print('Work done to compress cubic spring',W_cubic,'J')\n",
    "\n",
    "# relative difference\n",
    "print('Relative difference',(W_cubic-W_linear)/W_linear*100.0,'%')"
   ]
  },
  {
   "cell_type": "markdown",
   "metadata": {},
   "source": [
    "Often, tabulated data is given for force vs. displacement instead of a formula.  Let's take a look at an example where data is given in an Excel spreadsheet.  Pressure vs. displacement data is given for the compression and expansion strokes of a 4-stroke engine.  Assume the area of the piston is $A = 0.00456 m^2$."
   ]
  },
  {
   "cell_type": "code",
   "execution_count": 8,
   "metadata": {},
   "outputs": [],
   "source": [
    "import pandas as pd"
   ]
  },
  {
   "cell_type": "code",
   "execution_count": 9,
   "metadata": {},
   "outputs": [
    {
     "data": {
      "image/png": "[encoded data removed]",
      "text/plain": [
       "<Figure size 432x288 with 1 Axes>"
      ]
     },
     "metadata": {},
     "output_type": "display_data"
    }
   ],
   "source": [
    "data = pd.read_excel('../data/Pressure-displacement curves.xlsx')\n",
    "x = np.array(data.iloc[:,0])\n",
    "P1 = np.array(data.iloc[:,1])\n",
    "P2 = np.array(data.iloc[:,2])\n",
    "plt.plot(x,P1,x,P2)\n",
    "plt.ylabel('Pressure [kPa]')\n",
    "plt.xlabel('Displacement [m]');"
   ]
  },
  {
   "cell_type": "markdown",
   "metadata": {},
   "source": [
    "Now, let's calculate the total work done.  Since this process is a cycle (it starts and ends at the same point), the total work done turns out to be the area inside the closed curve, as follows:\n",
    "\n",
    "$ W_{cycle} = \\oint \\delta W = \\int\\limits_\\text{upper path} \\delta W - \\int\\limits_\\text{lower path} \\delta W = \\int\\limits_{x_1}^{x_2} P_\\text{expansion}(x)Adx - \\int\\limits_{x_1}^{x_2} P_\\text{compression}(x)Adx$\n",
    "\n",
    "The following code uses Simpson's rule to approximate the integral.  Note that previously we used quadrature when we had a function to evaluate.  In this case, we just have a set of data points rather than a function."
   ]
  },
  {
   "cell_type": "code",
   "execution_count": 10,
   "metadata": {},
   "outputs": [
    {
     "name": "stdout",
     "output_type": "stream",
     "text": [
      "Total work done during this cycle = 86.60416666666666 kW\n"
     ]
    }
   ],
   "source": [
    "W_cycle = -integrate.simps(P2-P1,x)     # minus sign in front since data runs from greatest x to least\n",
    "print('Total work done during this cycle =',W_cycle,'kW')"
   ]
  },
  {
   "cell_type": "markdown",
   "metadata": {},
   "source": [
    "<a id='idealgas'></a>\n",
    "\n",
    "### Compression and Expansion of Ideal Gases\n",
    "\n",
    "In this section, let's look at how we might design an internal combustion engine to produce a certain amount of work per cycle.  In Thermodynamics, as in other engineering subjects, we first start with a simple model of the process we'd like to design, then refine it further, adding more details as needed, until we are confident enough to build a prototype.\n",
    "\n",
    "A typical internal combustion engine has the following four phases of its cyclical motion, called \"strokes\":\n",
    "\n",
    "<img src=\"../images/four stroke engine.png\" width=\"600\" />\n",
    "\n",
    "The last two strokes, exhaust and intake, both occur at roughly atmospheric pressure and so bascially cancel out.  Therefore, we can ignore them when determining the work output of the engine.\n",
    "\n",
    "The compression and expansion strokes form a closed-loop, beginning and ending at the same point.  An \"engineering model\" of this cycle appears below.  Compare this plot to the pressure vs. displacement plot of the previous example.\n",
    "\n",
    "<img src=\"../images/Otto cycle.png\" width=\"400\" />\n",
    "\n",
    "This model of internal combustion is called the [Otto Cycle](https://en.wikipedia.org/wiki/Otto_cycle).  It is composed of the following processes:\n",
    "\n",
    "* $1 \\to 2$ The fuel-air mixture is compressed with very little heat transfer to the environment.  This is usually modeled with the following relationship: $Pv^n = const.$  This is called an **polytropic process**.  The exponent $n$ can be fit to experimental data, which will be done in this lesson, or its exact value can derived using the ideal gas law and other approximations.\n",
    "* $2 \\to 3$ The fuel-air mixture rapidly combusts, transferring heat into the mixture and increasing the pressure.  This happens so fast that the piston does not move; thus, the volume is constant during this process.\n",
    "* $3 \\to 4$ The high pressure causes the piston to move down and the gas to expand.  Again, this process is curve fit using $Pv^n = const.$\n",
    "* $4 \\to 1$ The exhaust gas leaves and is replaced by a new fuel-air mixture.  This is idealized as a drop in pressure while the piston is stationary."
   ]
  },
  {
   "cell_type": "markdown",
   "metadata": {},
   "source": [
    "Now, let's calculate the total work done.  Since this process is a cycle (it starts and ends at the same point), the total work done turns out to be the area inside the closed curve, as follows:\n",
    "\n",
    "$ W_{cycle} = \\oint \\delta W = \\int\\limits_1^2 \\delta W + \\int\\limits_2^3 \\delta W + \\int\\limits_3^4 \\delta W + \\int\\limits_4^1 \\delta W$\n",
    "\n",
    "Let's look at a typical term in this equation and see if we can write it using familiar variables.\n",
    "\n",
    "$\\int\\limits_1^2 \\delta W = \\int\\limits_{x_1}^{x_2} F(x)dx = \\int\\limits_{x_1}^{x_2} P(x)Adx$\n",
    "\n",
    "The term $Adx$ represents the change in volume of the cylinder as the piston moves.  So we can re-write this as $Adx = dV = mdv$, where $V$ is the volume and $v$ is the specific volume.  Now, we can write\n",
    "\n",
    "$\\int\\limits_1^2 \\delta W = m\\int\\limits_{v_1}^{v_2} P(v)dv$\n",
    "\n",
    "where we assume the mass of gas in the cylinder $m$ remains constant during the process, and pressure can be written as a function of specific volume.\n",
    "\n",
    "Using this equation, we can revisit the equation for work over the cycle:\n",
    "\n",
    "$ W_{cycle} = m\\int\\limits_{v_1}^{v_2} P(v)dv + m\\int\\limits_{v_2}^{v_3} P(v)dv + m\\int\\limits_{v_3}^{v_4} P(v)dv + m\\int\\limits_{v_4}^{v_1} P(v)dv = m\\int\\limits_{v_1}^{v_2} P(v)dv + m\\int\\limits_{v_3}^{v_4} P(v)dv$\n",
    "\n",
    "where we used the fact that\n",
    "\n",
    "$ m\\int\\limits_{v_2}^{v_3} P(v)dv = m\\int\\limits_{v_4}^{v_1} P(v)dv = 0$\n",
    "\n",
    "For a polytropic process, we have a formula for $P(v)$, so we can evaluate these integrals exactly using $P(v) = Cv^{-n}$:\n",
    "\n",
    "$\\int\\limits_{v_1}^{v_2} P(v)dv = \\int\\limits_{v_1}^{v_2} Cv^{-n}dv = C\\dfrac{v_2^{1-n}-v_1^{1-n}}{1-n} = \\dfrac{P_2v_2-P_1v_1}{1-n}$\n",
    "\n",
    "where we used the fact that $C = P_1v_1^n = P_2v_2^n$\n",
    "\n",
    "In the special case $n=1$, this equation becomes\n",
    "\n",
    "$\\int\\limits_{v_1}^{v_2} P(v)dv = P_1v_1\\ln\\left(\\dfrac{v_2}{v_1} \\right) = P_2v_2\\ln\\left(\\dfrac{v_2}{v_1} \\right)$"
   ]
  },
  {
   "cell_type": "markdown",
   "metadata": {},
   "source": [
    "**Example:** We would like to design an Otto cycle that produces $900 J$ of energy per cycle.  We are constrained by the following design requirements: \n",
    "1. $r \\equiv \\dfrac{v_1}{v_2} \\leq 12$.  If this **compression ratio** is any larger, the fuel will autoignite, causing undue vibration in the engine (\"knocking\") leading potentially to damage\n",
    "1. $P_1 = 1 atm$ and $T_1 = 18 ^\\circ C$.  The intake and exhaust occur at (roughly) atmospheric pressure and temperature.  We will consider ways to circumvent this requirement in a later lesson.\n",
    "1. $T_3 = 1300 ^\\circ C$.  This is the maximum temperature the engine can operate at without suffering fatigue damage.\n",
    "1. We will assume the gas in the engine is air.  This is a common assumption called the **air standard model**.\n",
    "1. The two polytropic processes are governed by $Pv^{1.5} = const.$\n",
    "\n",
    "What displacement $V_1-V_2$ is necessary to produce the desired work?\n",
    "\n",
    "We'd like to make the engine as small as possible (smallest cylinder diameter) and yet still achieve the desired work output.  As we previously mentioned, the net work output of the cycle is the area inside the curve on the $P-v$ diagram, so we want to make this area as large as possible.  We do this by making $\\dfrac{v_1}{v_2}$ as large as possible, which increases the width of the area, and by making $\\dfrac{T_3}{T_1}$ as large as possible, which increases the height of the area.\n",
    "\n",
    "Let's summarize what we know about the four states of the cycle:\n",
    "\n",
    "**State 1:**  ***Known:*** $P_1,T_1$, ***Unknown:*** $v_1$\n",
    "\n",
    "**State 2:**  ***Known:*** $v_2$ (once we find $v_1$, we can assume $\\dfrac{v_1}{v_2} = 12$ to maximize the compression ratio), $P_2$ (once we find $v_2$, we can use the polytropic process equation $P_1v_1^{1.5} = P_2v_2^{1.5}$), ***Unknown:*** $T_2$\n",
    "\n",
    "**State 3:**  ***Known:*** $v_3$ ($v_3 = v_2$ by assumption), $T_3 = 1300 ^\\circ C$ (we want $T_3$ as large as possible), ***Unknown:*** $P_3$\n",
    "\n",
    "**State 4:**  ***Known:*** $v_4$ ($v_4 = v_1$ by assumption), $P_4$ (once we find $P_3$, we can use the polytropic process equation $P_3v_3^{1.5} = P_4v_4^{1.5}$), ***Unknown:*** $T_4$\n",
    "\n",
    "Let's create a function that takes the parameters of the Otto cycle and outputs a plot of the cycle on a $P-v$ diagram and the work output on a per mass basis (that way it can be easily scaled later)."
   ]
  },
  {
   "cell_type": "code",
   "execution_count": 11,
   "metadata": {},
   "outputs": [],
   "source": [
    "def Otto_cycle_Pv(T1,P1,T3,r,n):\n",
    "    # T1 = temperature at state 1 [K]\n",
    "    # P1 = pressure at state 1 [Pa]\n",
    "    # T3 = temperature at state 3 [K]\n",
    "    # r = compression ratio\n",
    "    # n = polytropic process exponent\n",
    "    \n",
    "    # state 1\n",
    "    state1 = ct.Solution('air.xml', 'air')      # create air object\n",
    "    state1.TP = T1, P1                          # set temperature and pressure\n",
    "    v1 = state1.v                               # specific volume [m^3/kg]\n",
    "    \n",
    "    # state 2\n",
    "    state2 = ct.Solution('air.xml', 'air')      # create air object\n",
    "    v2 = v1/r                                   # specific volume, using compression ratio [m^3/kg]\n",
    "    P2 = P1*(v1/v2)**n                          # pressure, using polytropic process equation [Pa]\n",
    "    state2.DP = 1/v2, P2                        # set density and pressure\n",
    "    \n",
    "    # state 3\n",
    "    state3 = ct.Solution('air.xml', 'air')      # create air object\n",
    "    v3 = v2                                     # specific volume [m^3/kg]\n",
    "    state3.TD = T3, 1/v3                        # set temperature and density\n",
    "    P3 = state3.P                               # pressure [Pa]\n",
    "    \n",
    "    # state 4\n",
    "    state4 = ct.Solution('air.xml', 'air')      # create air object\n",
    "    v4 = v1                                     # specific volume [m^3/kg]\n",
    "    P4 = P3*(v3/v4)**n                          # pressure, using polytropic process equation [Pa]\n",
    "    state4.DP = 1/v4, P4                        # set density and pressure\n",
    "    \n",
    "    # draw cycle on P-v diagram\n",
    "    v_array = np.linspace(v1,v2,101)\n",
    "    plt.plot(v_array,(P1*v1**n)*v_array**(-n),'b',linewidth=2)\n",
    "    plt.plot([v2,v3],[P2,P3],'bo-',linewidth=2)\n",
    "    plt.plot(v_array,(P3*v3**n)*v_array**(-n),'b',linewidth=2)\n",
    "    plt.plot([v4,v1],[P4,P1],'bo-',linewidth=2)\n",
    "    plt.text(v1,P1,'  1',fontsize=12)\n",
    "    plt.text(v2,P2,'2  ',fontsize=12,fontdict=dict(ha='right'))\n",
    "    plt.text(v3,P3,'3  ',fontsize=12,fontdict=dict(ha='right'))\n",
    "    plt.text(v4,P4,'  4',fontsize=12)\n",
    "    plt.ylabel('Pressure [Pa]')\n",
    "    plt.xlabel('Specific volume [m^3/kg]')\n",
    "    \n",
    "    # compute work/mass using polytropic process integral formulas\n",
    "    if n == 1:\n",
    "        w = P3*v3*np.log(v4/v3) + P1*v1*np.log(v2/v1)\n",
    "    else:\n",
    "        w = (P2*v2-P1*v1)/(1-n) + (P4*v4-P3*v3)/(1-n)\n",
    "    return w"
   ]
  },
  {
   "cell_type": "code",
   "execution_count": 12,
   "metadata": {},
   "outputs": [
    {
     "name": "stdout",
     "output_type": "stream",
     "text": [
      "Work per unit mass = 230521.02912311547 J/kg\n"
     ]
    },
    {
     "data": {
      "image/png": "[encoded data removed]",
      "text/plain": [
       "<Figure size 432x288 with 1 Axes>"
      ]
     },
     "metadata": {},
     "output_type": "display_data"
    }
   ],
   "source": [
    "T1 = 18.0 + 273.15            # temperature [K]\n",
    "P1 = 1.0*101325.0             # pressure [Pa]\n",
    "T3 = 1300.0 + 273.15          # temperature [K]\n",
    "r = 12.0                      # compression ratio\n",
    "n = 1.5                       # polytropic process exponent\n",
    "\n",
    "# plot Otto cycle and compute work/mass\n",
    "w = Otto_cycle_Pv(T1,P1,T3,r,n)\n",
    "print('Work per unit mass =',w,'J/kg')"
   ]
  },
  {
   "cell_type": "markdown",
   "metadata": {},
   "source": [
    "Now we know the specific work output, we can compute how much mass of air is required to hit our target of $W = 900 J$."
   ]
  },
  {
   "cell_type": "code",
   "execution_count": 13,
   "metadata": {},
   "outputs": [
    {
     "name": "stdout",
     "output_type": "stream",
     "text": [
      "Mass of air required = 0.003904199124147293 kg\n"
     ]
    }
   ],
   "source": [
    "W = 900             # work output [J]\n",
    "m = W/w             # mass of air [kg]\n",
    "print('Mass of air required =',m,'kg')"
   ]
  },
  {
   "cell_type": "markdown",
   "metadata": {},
   "source": [
    "Now, the displacement can be calculated using this mass, as\n",
    "\n",
    "$V_1 - V_2 = m(v_1 - v_2) = m \\left( v_1 - \\dfrac{v_1}{r} \\right)$"
   ]
  },
  {
   "cell_type": "code",
   "execution_count": 14,
   "metadata": {},
   "outputs": [
    {
     "name": "stdout",
     "output_type": "stream",
     "text": [
      "Displacement = 2.9514341998168034 L\n"
     ]
    }
   ],
   "source": [
    "state1 = ct.Solution('air.xml', 'air')      # create air object\n",
    "state1.TP = T1, P1                          # set temperature and pressure\n",
    "v1 = state1.v                               # specific volume [m^3/kg]\n",
    "disp = m*(v1-v1/r)                          # displacement [m^3]\n",
    "print('Displacement =',disp*1000.0,'L')     # convert to liters"
   ]
  },
  {
   "cell_type": "markdown",
   "metadata": {},
   "source": [
    "<a id='simcond'></a>\n",
    "\n",
    "### Simulating Heat Conduction... with Work\n",
    "\n",
    "In the previous section, we calculated the work output of a moving piston while the gas moving it was going through a thermodynamic cycle.  In physics this is often called **moving boundary work**.\n",
    "\n",
    "In the previous lesson, we simulated the conduction of heat through the boundary of a cooler full of cold air.  To review, heat conduction is the mechanism by which heat is transfered between two systems at rest relative to each other, where one system is at a higher temperature than the other.\n",
    "\n",
    "Let's consider a piston-cylinder setup filled with a refrigerated air placed in a room.  As you would expect, the temperature of the air in the vessel will gradually increase until it matches the room's air temperature.  The air temperature of the room will decrease ever so slightly, but we can assume this effect is negligible.  As heat is transfered to the system, the piston will slowly rise as the air heats up.  The main difference between this example and the one in the previous lesson is that the air in this example is at a constant pressure; whereas in the previous example it was at a constant volume.\n",
    "\n",
    "<img src=\"../images/piston cylinder const pressure.png\" width=\"600\" />\n",
    "\n",
    "We can see quickly that the pressure inside the cylinder must be equal to the pressure outside at all times by considering a free body diagram of the piston:\n",
    "\n",
    "<img src=\"../images/piston fbd.png\" width=\"150\" />\n",
    "\n",
    "Assuming the acceleration of the piston is negligible, we get\n",
    "\n",
    "$0 = \\sum F = P_{sys}A - P_{atm}A$\n",
    "\n",
    "where, $A$ is the area of each piston face.  This equation shows that we must have $P_{sys} = P_{atm}$.\n",
    "\n",
    "When we model how energy flows into or out of a control system, we start with an energy balance (the First Law of Thermodynamics):\n",
    "\n",
    "$Q - W = \\Delta E_{sys}$\n",
    "\n",
    "where, as usual, we define $Q > 0$ to be heat transferred *to* the system and $W > 0$ to be work done *by* the system (on the surroundings -- in this case, on the piston).\n",
    "\n",
    "For heat conduction, we make the usual assumption that he rate at which heat transfered can be well approximated by [Fourier's law](https://en.wikipedia.org/wiki/Thermal_conduction#Fourier's_law):\n",
    "\n",
    "$\\dfrac{dQ}{dt} = k(T_{room}-T_{sys})$\n",
    "\n",
    "where \\\\(k\\\\) is the thermal conductivity.\n",
    "\n",
    "The rate at which the temperature of the air in the cylinder increases is approximated by\n",
    "\n",
    "$\\dfrac{\\partial U_{sys}}{\\partial T_{sys}} = m c_v$\n",
    "\n",
    "where \\\\(m\\\\) is the mass of the air, and \\\\(c_v\\\\) is its specific heat at constant volume.\n",
    "\n",
    "If we assume air is an ideal gas, then mathematically it can be shown that $c_v(T,P) \\approx c_v(T)$, just like incompressible liquids and solids.  Thus, we can convert the partial derivative to an ordinary derivative:\n",
    "\n",
    "$\\dfrac{dU_{sys}}{dT_{sys}} = m c_v$\n",
    "\n",
    "Since the air and its container are at rest, we can assume $U_{sys} = E_{sys}$.\n",
    "\n",
    "Putting these equations together gives\n",
    "\n",
    "$k(T_{room}-T_{sys}) - \\dfrac{dW}{dt} = \\dfrac{dQ}{dt} - \\dfrac{\\partial W}{\\partial t} = \\dfrac{dE_{sys}}{dt} = \\dfrac{dU_{sys}}{dt} = \\dfrac{dU_{sys}}{dT_{sys}} \\dfrac{dT_{sys}}{dt} = m c_v \\dfrac{dT_{sys}}{dt}$\n",
    "\n",
    "Rearranging, we have\n",
    "\n",
    "$k(T_{room}-T_{sys}) = m c_v \\dfrac{dT_{sys}}{dt} + \\dfrac{dW}{dt}$\n",
    "\n",
    "Now, let's focus on the $\\dfrac{dW}{dt}$ term.  The incremental work for a moving boundary is given by\n",
    "\n",
    "$\\delta W = mP(v)dv$\n",
    "\n",
    "as previously derived.  We can take the time derivative of this increment and get\n",
    "\n",
    "$\\dfrac{dW}{dt} = mP \\dfrac{dv}{dt}$\n",
    "\n",
    "where we have noted that $m$ and $P$ are constant in this example.\n",
    "\n",
    "Since we want to write everything in terms of $T_{sys}$, we can use the ideal gas law to relate $v$ to $T_{sys}$, as follows:\n",
    "\n",
    "$Pv = RT_{sys}$\n",
    "\n",
    "and so\n",
    "\n",
    "$P \\dfrac{dv}{dt} = R \\dfrac{dT_{sys}}{dt}$\n",
    "\n",
    "Whew!  Now we are finally in a position to write everything in  terms of the unknown function $T_{sys}(t)$, which we can solve since we know the intial value, $T_{sys}(0) = 278 K$:\n",
    "\n",
    "$k(T_{room}-T_{sys}) = m c_v \\dfrac{dT_{sys}}{dt} + mR \\dfrac{dT_{sys}}{dt}$\n",
    "\n",
    "Rearranging this equation into standard form gives\n",
    "\n",
    "$\\dfrac{dT_{sys}}{dt} = \\dfrac{k}{m (c_v+R)}(T_{room}-T_{sys})$\n",
    "\n",
    "Let's compare this equation to the constant-volume example we did in the previous lesson:\n",
    "\n",
    "$\\dfrac{dT_{sys}}{dt} = \\dfrac{k}{m c_v}(T_{room}-T_{sys})$\n",
    "\n",
    "It has basically the same form as our current constant-pressure example.  In fact, if we define a new variable $c_p = c_v+R$, then we get\n",
    "\n",
    "$\\dfrac{dT_{sys}}{dt} = \\dfrac{k}{m c_p}(T_{room}-T_{sys})$\n",
    "\n",
    "which has the exact same form.  $c_p$ is called the **specific heat at constant pressure**.  The equation $c_p = c_v+R$ is only true for ideal gases; however, for any substance, $c_p > c_v$.  We will explain why this is at the conclusion of this example.\n",
    "\n",
    "Let's assume the values $m = 0.003 kg$ and $k = 0.01 \\frac{W}{K}$ and that $T_{room} = 295 K$ is constant.\n",
    "\n",
    "We will use [scipy.integrate.solve_ivp](https://docs.scipy.org/doc/scipy/reference/generated/scipy.integrate.solve_ivp.html), which is like MATLAB's ode45, to solve this initial value problem.  We will compare this solution to the one from the previous lesson."
   ]
  },
  {
   "cell_type": "code",
   "execution_count": 15,
   "metadata": {},
   "outputs": [],
   "source": [
    "state = ct.Solution('air.xml', 'air')      # create air object\n",
    "m = 0.003             # mass of air in cooler [kg]\n",
    "k = 0.01              # thermal conductivity [W/K]\n",
    "P = 101325.0          # air pressure [Pa]\n",
    "T_room = 295          # room temperature [K]\n",
    "\n",
    "def dT_sys_const_v(t, T_sys):\n",
    "    state.TP = T_sys, P                   # set the temperature and pressure\n",
    "    return k/(m*state.cv)*(T_room-T_sys)\n",
    "\n",
    "def dT_sys_const_P(t, T_sys):\n",
    "    state.TP = T_sys, P                   # set the temperature and pressure\n",
    "    return k/(m*state.cp)*(T_room-T_sys)"
   ]
  },
  {
   "cell_type": "code",
   "execution_count": 16,
   "metadata": {},
   "outputs": [
    {
     "data": {
      "image/png": "[encoded data removed]",
      "text/plain": [
       "<Figure size 432x288 with 1 Axes>"
      ]
     },
     "metadata": {},
     "output_type": "display_data"
    }
   ],
   "source": [
    "tspan = [0, 1500]     # time span of integration [s]\n",
    "ICs = [278]           # initial conditions [T_sys [K]]\n",
    "tarray = np.linspace(0,1500,101)\n",
    "solution_v = integrate.solve_ivp(dT_sys_const_v,tspan,ICs,t_eval=tarray)\n",
    "solution_P = integrate.solve_ivp(dT_sys_const_P,tspan,ICs,t_eval=tarray)\n",
    "\n",
    "plt.plot(np.squeeze(solution_v.t)/60,np.squeeze(solution_v.y),label='Constant volume')\n",
    "plt.plot(np.squeeze(solution_P.t)/60,np.squeeze(solution_P.y),label='Constant pressure')\n",
    "plt.ylabel('System temperature [K]')\n",
    "plt.xlabel('Time [min]')\n",
    "plt.legend();"
   ]
  },
  {
   "cell_type": "markdown",
   "metadata": {},
   "source": [
    "Temperature rises more slowly in the constant pressure case; however, the system temperatures ultimately reach the same final temperature as this is the point of thermal equilibrium with the surroundings.  In the constant pressure case, some of the heat transfered is converted into work to push the piston outward.  This energy is not retained by the gas to be used to increase its temperature.\n",
    "\n",
    "This explains why $c_p$ is always greater than $c_v$: it takes more heat to raise the temperature of a substance under constant pressure because some of the heat is used to do work, rather than all of the heat being used to raise its temperature."
   ]
  },
  {
   "cell_type": "markdown",
   "metadata": {},
   "source": [
    "<a id='poly'></a>\n",
    "\n",
    "### Curve Fitting Polytropic Processes\n",
    "\n",
    "Several processes we've seen so far are considered polytropic processes because they have the form $Pv^n = const.$  Here are two examples:\n",
    "\n",
    "* $n = 0$ corresponds to a constant pressure process (also known as **isobaric**), sincw we have $Pv^0 = P = const.$\n",
    "\n",
    "* $n = \\infty$ corresponds to a constant volume process (also known as **isochoric**), since we have $Pv^n \\to v^n = const.$ as $n \\to \\infty$\n",
    "\n",
    "If we are working with an ideal gas, we also have:\n",
    "\n",
    "* $n = 1$ corresponds to a constant temperature process (also known as **isothermal**), since we have $Pv = RT = const.$ using the ideal gas law\n",
    "\n",
    "Real liquids and gases do not behave exactly like ideal gases; however, the general trend of $P$ increasing as $v$ decreases usually holds.  And in many cases this relationship can be fit to a curve of the form $Pv^n = const.$"
   ]
  },
  {
   "cell_type": "code",
   "execution_count": 17,
   "metadata": {},
   "outputs": [
    {
     "data": {
      "image/png": "[encoded data removed]",
      "text/plain": [
       "<Figure size 432x288 with 1 Axes>"
      ]
     },
     "metadata": {},
     "output_type": "display_data"
    }
   ],
   "source": [
    "data = pd.read_excel('../data/Polytropic process.xlsx')\n",
    "v = np.array(data.iloc[:,0])\n",
    "P = np.array(data.iloc[:,1])\n",
    "plt.plot(v,P)\n",
    "plt.ylabel('Pressure [$kPa$]')\n",
    "plt.xlabel('Specific volume [$m^3/kg$]');"
   ]
  },
  {
   "cell_type": "markdown",
   "metadata": {},
   "source": [
    "To fit these data to a polytropic process, we will use [scipy.optimize.curve_fit](https://docs.scipy.org/doc/scipy/reference/generated/scipy.optimize.curve_fit.html#scipy.optimize.curve_fit), which can attempt to fit any function you can write an equation for.  The fit function we give it has to be of the form $y = f(x,p_1,p_2,...)$, where $p_1,p_2,...$ are unknown parameters (constants) of the function.  The algorith tries to find the values of these parameters that best fit the data.\n",
    "\n",
    "Let's write the polytropic process like $Pv^n = C$, where the unknown parameters of the function are $n$ and $C$.  Let's call these unknown parameters $p_1$ and $p_2$.  Then we have $Pv^{p_1} = p_2$.\n",
    "\n",
    "In our plot of the data, pressure is the dependent variable and specific volume is the independent variable.  We need to rewrite the function so that the dependent variable appears by itself on the left-hand side:\n",
    "\n",
    "$P = \\dfrac{p_2}{v^{p_1}}$"
   ]
  },
  {
   "cell_type": "code",
   "execution_count": 18,
   "metadata": {},
   "outputs": [],
   "source": [
    "import scipy.optimize as optim"
   ]
  },
  {
   "cell_type": "code",
   "execution_count": 19,
   "metadata": {},
   "outputs": [
    {
     "name": "stdout",
     "output_type": "stream",
     "text": [
      "Polytropic process exponent = 0.8350816162936416\n",
      "Standard error = [ 0.04381207 25.20431522]\n"
     ]
    },
    {
     "data": {
      "image/png": "[encoded data removed]",
      "text/plain": [
       "<Figure size 432x288 with 1 Axes>"
      ]
     },
     "metadata": {},
     "output_type": "display_data"
    }
   ],
   "source": [
    "# replot the data as red stars\n",
    "plt.plot(v,P,'r*')\n",
    "plt.ylabel('Pressure [$kPa$]')\n",
    "plt.xlabel('Specific volume [$m^3/kg$]')\n",
    "\n",
    "# define a function to fit\n",
    "def func(x, n, C):\n",
    "    return C/x**n\n",
    "\n",
    "# perform nonlinear curve fit\n",
    "popt,pcov = optim.curve_fit(func,v,P)\n",
    "v_array_dense = np.linspace(0.1,1.4,101)            # make a denser v array for plotting the curve fit\n",
    "plt.plot(v_array_dense,func(v_array_dense,*popt))\n",
    "plt.legend(['Excel data','Curve fit'])\n",
    "print('Polytropic process exponent =',popt[0])\n",
    "print('Standard error =',np.sqrt(np.diag(pcov)))"
   ]
  },
  {
   "cell_type": "markdown",
   "metadata": {},
   "source": [
    "Using these curve fit parameters, we can evaluate the work integrals exactly using $P(v) = Cv^{-n}$:\n",
    "\n",
    "$\\int\\limits_{v_1}^{v_2} P(v)dv = \\int\\limits_{v_1}^{v_2} Cv^{-n}dv = C\\dfrac{v_2^{1-n}-v_1^{1-n}}{1-n}$\n",
    "\n",
    "In the special case $n=1$, this equation becomes\n",
    "\n",
    "$\\int\\limits_{v_1}^{v_2} P(v)dv = C\\ln\\left(\\dfrac{v_2}{v_1} \\right)$"
   ]
  }
 ],
 "metadata": {
  "kernelspec": {
   "display_name": "Python 3",
   "language": "python",
   "name": "python3"
  },
  "language_info": {
   "codemirror_mode": {
    "name": "ipython",
    "version": 3
   },
   "file_extension": ".py",
   "mimetype": "text/x-python",
   "name": "python",
   "nbconvert_exporter": "python",
   "pygments_lexer": "ipython3",
   "version": "3.7.4"
  }
 },
 "nbformat": 4,
 "nbformat_minor": 2
}
