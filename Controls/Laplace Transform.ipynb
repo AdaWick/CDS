{
 "cells": [
  {
   "cell_type": "markdown",
   "metadata": {},
   "source": [
    "# Laplace and Inverse Laplace Transforms\n",
    "\n",
    "## Contents:\n",
    "\n",
    "1. [Introduction](#intro)\n",
    "1. [Laplace Transform](#lt)\n",
    "1. [Inverse Laplace Transform](#ilt)"
   ]
  },
  {
   "cell_type": "markdown",
   "metadata": {},
   "source": [
    "<a id='intro'></a>\n",
    "\n",
    "### Introduction\n",
    "\n",
    "Let's apply a time-varying force to the mass-spring-damper system shown below.  A free-body-diagram (FBD) of this system appears to the right.\n",
    "\n",
    "<img src=\"images/mass spring damper.png\" width=\"600\" />\n",
    "\n",
    "The transfer function of the system, which was derived in [Time Response of Linear Systems](Time Response.ipynb), is as follows:\n",
    "\n",
    "\\\\(G(s) = \\dfrac{X(s)}{F(x)} = \\dfrac{1}{ms^2 + bs + k}\\\\)\n",
    "\n",
    "Let's apply the following input force to this system: \\\\(F(t) = 3 \\sin(4t)\\\\).\n",
    "\n",
    "We can solve for the Laplace Transform of the output, \\\\(X(s)\\\\), using the system's transfer function:\n",
    "\n",
    "\\\\(X(s) = G(s)F(s) = \\dfrac{1}{ms^2 + bs + k} F(s)\\\\)\n",
    "\n",
    "however, before we compute \\\\(X(s)\\\\), we need to find \\\\(F(s)\\\\)."
   ]
  },
  {
   "cell_type": "markdown",
   "metadata": {},
   "source": [
    "<a id='lt'></a>\n",
    "\n",
    "### Laplace Transform\n",
    "\n",
    "The [Laplace Transform](https://en.wikipedia.org/wiki/Laplace_transform) of a function of time can be found symbolically using [SymPy](https://www.sympy.org/en/index.html), a Python toolbox for symbolic math.\n",
    "\n",
    "First, we must import the needed functions:"
   ]
  },
  {
   "cell_type": "code",
   "execution_count": 13,
   "metadata": {},
   "outputs": [],
   "source": [
    "from sympy.integrals import laplace_transform, inverse_laplace_transform\n",
    "from sympy.abc import t, s  # symbolic variables we will need\n",
    "from sympy import sin\n",
    "from sympy import simplify, pprint    # for 'pretty printing'"
   ]
  },
  {
   "cell_type": "markdown",
   "metadata": {},
   "source": [
    "Let's create a variable for \\\\(F(t)\\\\):"
   ]
  },
  {
   "cell_type": "code",
   "execution_count": 2,
   "metadata": {},
   "outputs": [
    {
     "name": "stdout",
     "output_type": "stream",
     "text": [
      "3⋅sin(4⋅t)\n"
     ]
    }
   ],
   "source": [
    "F = 3*sin(4*t)\n",
    "pprint(F)"
   ]
  },
  {
   "cell_type": "markdown",
   "metadata": {},
   "source": [
    "Now, we use the function [sympy.integrals.laplace_transform](https://docs.sympy.org/latest/modules/integrals/integrals.html#sympy.integrals.transforms.laplace_transform), using the time function `F` as the input, to compute the Laplace Transform:"
   ]
  },
  {
   "cell_type": "code",
   "execution_count": 3,
   "metadata": {},
   "outputs": [
    {
     "name": "stdout",
     "output_type": "stream",
     "text": [
      "   12  \n",
      "───────\n",
      " 2     \n",
      "s  + 16\n"
     ]
    }
   ],
   "source": [
    "Fs = laplace_transform(F,t,s)[0]\n",
    "pprint(Fs)"
   ]
  },
  {
   "cell_type": "markdown",
   "metadata": {},
   "source": [
    "This function takes in first the time function you'd like to transform, the time variable, then the Laplace variable.  This function returns 3 outputs, but we only need the first; hence, the `[0]` at the end.\n",
    "\n",
    "You should see that the Laplace Transform of \\\\(F(t) = 3 \\sin(4t)\\\\) is\n",
    "\n",
    "\\\\(F(s) = \\dfrac{12}{s^2+16}\\\\)"
   ]
  },
  {
   "cell_type": "markdown",
   "metadata": {},
   "source": [
    "**Exercise:**\n",
    "\n",
    "Use the following code block to find the Laplace Transforms of these functions of time:\n",
    "\n",
    "1. \\\\(F(t) = 2e^{-t}\\cos(3t)\\\\)\n",
    "\n",
    "2. \\\\(F(t) = e^{-at}\\\\)"
   ]
  },
  {
   "cell_type": "code",
   "execution_count": null,
   "metadata": {},
   "outputs": [],
   "source": []
  },
  {
   "cell_type": "markdown",
   "metadata": {},
   "source": [
    "<a id='ilt'></a>\n",
    "\n",
    "### Inverse Laplace Transform\n",
    "\n",
    "The Inverse Laplace Transform is commonly used to find the time response of a linear Ordinary Differential Equation (ODE).  Here, we will plot the response of the mass-spring-damper system to a sinusoidal force using the Inverse Laplace Transform.\n",
    "\n",
    "In the following block of code, we describe the transfer function in terms of \\\\(s\\\\) and the input in terms of \\\\(t\\\\), then transform the input and multiply by \\\\(G(s)\\\\) to get \\\\(X(s)\\\\):"
   ]
  },
  {
   "cell_type": "code",
   "execution_count": 10,
   "metadata": {},
   "outputs": [
    {
     "name": "stdout",
     "output_type": "stream",
     "text": [
      "      1      \n",
      "─────────────\n",
      "   2         \n",
      "5⋅s  + s + 10\n",
      "            12           \n",
      "─────────────────────────\n",
      "⎛ 2     ⎞ ⎛   2         ⎞\n",
      "⎝s  + 16⎠⋅⎝5⋅s  + s + 10⎠\n"
     ]
    }
   ],
   "source": [
    "# transfer function values\n",
    "m = 5\n",
    "b = 1\n",
    "k = 10\n",
    "\n",
    "Gs = 1/(m*s**2+b*s+k)\n",
    "pprint(Gs)\n",
    "\n",
    "# compute X(s)\n",
    "Xs = Gs*Fs\n",
    "pprint(Xs)"
   ]
  },
  {
   "cell_type": "markdown",
   "metadata": {},
   "source": [
    "Now, we use the function [sympy.integrals.inverse_laplace_transform](https://docs.sympy.org/latest/modules/integrals/integrals.html#sympy.integrals.transforms.inverse_laplace_transform), using the time function `Xs` as the input, to compute the Inverse Laplace Transform:"
   ]
  },
  {
   "cell_type": "code",
   "execution_count": 21,
   "metadata": {},
   "outputs": [
    {
     "name": "stdout",
     "output_type": "stream",
     "text": [
      "     ⎛                                                                        \n",
      "     ⎜                                                                        \n",
      "     ⎜                                                                        \n",
      "-2.4⋅⎜(-0.000508543531326282 - 0.00889951179820993⋅ⅈ)⋅(ⅈ⋅sin(4⋅t) - cos(4⋅t)) \n",
      "     ⎝                                                                        \n",
      "\n",
      "                                                                              \n",
      "                                                                              \n",
      "                                                                              \n",
      "- (-0.000508543531326282 + 0.00889951179820993⋅ⅈ)⋅(ⅈ⋅sin(4⋅t) + cos(4⋅t)) + (0\n",
      "                                                                              \n",
      "\n",
      "                                            ⎛   -t                 -t         \n",
      "                                            ⎜   ───                ───        \n",
      "                                            ⎜    10    ⎛√199⋅t⎞     10    ⎛√19\n",
      ".000508543531326282 + 0.0252708362851324⋅ⅈ)⋅⎜ⅈ⋅ℯ   ⋅sin⎜──────⎟ - ℯ   ⋅cos⎜───\n",
      "                                            ⎝          ⎝  10  ⎠           ⎝  1\n",
      "\n",
      "    ⎞                                                 ⎛   -t                 -\n",
      "    ⎟                                                 ⎜   ───                ─\n",
      "9⋅t⎞⎟                                                 ⎜    10    ⎛√199⋅t⎞     \n",
      "───⎟⎟ - (0.000508543531326282 - 0.0252708362851324⋅ⅈ)⋅⎜ⅈ⋅ℯ   ⋅sin⎜──────⎟ + ℯ \n",
      "0  ⎠⎠                                                 ⎝          ⎝  10  ⎠     \n",
      "\n",
      "t             ⎞⎞             \n",
      "──            ⎟⎟             \n",
      "10    ⎛√199⋅t⎞⎟⎟             \n",
      "  ⋅cos⎜──────⎟⎟⎟⋅Heaviside(t)\n",
      "      ⎝  10  ⎠⎠⎠             \n"
     ]
    }
   ],
   "source": [
    "#x = simplify(inverse_laplace_transform(Xs,s,t))\n",
    "x = inverse_laplace_transform(Xs,s,t).evalf()\n",
    "pprint(x)"
   ]
  },
  {
   "cell_type": "markdown",
   "metadata": {},
   "source": [
    "**Exercise:**\n",
    "\n",
    "Plot the unit step responses for the systems \\\\(G_1(s)\\\\), \\\\(G_2(s)\\\\), and \\\\(G_3(s)\\\\) from the previous exercise.  How do these responses differ qualitatively?"
   ]
  },
  {
   "cell_type": "code",
   "execution_count": null,
   "metadata": {},
   "outputs": [],
   "source": []
  },
  {
   "cell_type": "markdown",
   "metadata": {},
   "source": [
    "Let's say you want to compute the step response at specific points in time.  First, let's create our own time vector, increments of 0.5 seconds from 0 to 70 seconds.  Then, we can use this vector as the second input to the [scipy.signal.step](https://docs.scipy.org/doc/scipy/reference/generated/scipy.signal.step.html) function.\n",
    "\n",
    "To create this time vector, we will use the [numpy.arange](https://docs.scipy.org/doc/numpy/reference/generated/numpy.arange.html) function, which creates an array with a given starting point, stopping point, and step size."
   ]
  },
  {
   "cell_type": "code",
   "execution_count": 6,
   "metadata": {},
   "outputs": [
    {
     "ename": "NameError",
     "evalue": "name 'ss' is not defined",
     "output_type": "error",
     "traceback": [
      "\u001b[1;31m---------------------------------------------------------------------------\u001b[0m",
      "\u001b[1;31mNameError\u001b[0m                                 Traceback (most recent call last)",
      "\u001b[1;32m<ipython-input-6-ebaeadd77bdc>\u001b[0m in \u001b[0;36m<module>\u001b[1;34m()\u001b[0m\n\u001b[0;32m      1\u001b[0m \u001b[1;32mimport\u001b[0m \u001b[0mnumpy\u001b[0m \u001b[1;32mas\u001b[0m \u001b[0mnp\u001b[0m\u001b[1;33m\u001b[0m\u001b[0m\n\u001b[1;32m----> 2\u001b[1;33m \u001b[0mt\u001b[0m\u001b[1;33m,\u001b[0m\u001b[0my\u001b[0m \u001b[1;33m=\u001b[0m \u001b[0mss\u001b[0m\u001b[1;33m.\u001b[0m\u001b[0mstep\u001b[0m\u001b[1;33m(\u001b[0m\u001b[0mG\u001b[0m\u001b[1;33m,\u001b[0m\u001b[0mT\u001b[0m\u001b[1;33m=\u001b[0m\u001b[0mnp\u001b[0m\u001b[1;33m.\u001b[0m\u001b[0marange\u001b[0m\u001b[1;33m(\u001b[0m\u001b[1;36m0\u001b[0m\u001b[1;33m,\u001b[0m\u001b[1;36m70.5\u001b[0m\u001b[1;33m,\u001b[0m\u001b[1;36m0.5\u001b[0m\u001b[1;33m)\u001b[0m\u001b[1;33m)\u001b[0m\u001b[1;33m\u001b[0m\u001b[0m\n\u001b[0m\u001b[0;32m      3\u001b[0m \u001b[1;33m\u001b[0m\u001b[0m\n\u001b[0;32m      4\u001b[0m \u001b[0mplt\u001b[0m\u001b[1;33m.\u001b[0m\u001b[0mplot\u001b[0m\u001b[1;33m(\u001b[0m\u001b[0mt\u001b[0m\u001b[1;33m,\u001b[0m\u001b[0my\u001b[0m\u001b[1;33m)\u001b[0m\u001b[1;33m\u001b[0m\u001b[0m\n\u001b[0;32m      5\u001b[0m \u001b[0mplt\u001b[0m\u001b[1;33m.\u001b[0m\u001b[0mtitle\u001b[0m\u001b[1;33m(\u001b[0m\u001b[1;34m'Step response'\u001b[0m\u001b[1;33m)\u001b[0m\u001b[1;33m;\u001b[0m\u001b[1;33m\u001b[0m\u001b[0m\n",
      "\u001b[1;31mNameError\u001b[0m: name 'ss' is not defined"
     ]
    }
   ],
   "source": [
    "import numpy as np\n",
    "t,y = ss.step(G,T=np.arange(0,70.5,0.5))\n",
    "\n",
    "plt.plot(t,y)\n",
    "plt.title('Step response');"
   ]
  },
  {
   "cell_type": "markdown",
   "metadata": {},
   "source": [
    "Note that this plot still looks a bit rough.  Let's decrease the step size to 0.1 and try again."
   ]
  },
  {
   "cell_type": "code",
   "execution_count": null,
   "metadata": {},
   "outputs": [],
   "source": [
    "import numpy as np\n",
    "t,y = ss.step(G,T=np.arange(0,70.1,0.1))\n",
    "\n",
    "plt.plot(t,y)\n",
    "plt.title('Step response');"
   ]
  },
  {
   "cell_type": "markdown",
   "metadata": {},
   "source": [
    "This plot looks a lot smoother."
   ]
  },
  {
   "cell_type": "markdown",
   "metadata": {},
   "source": [
    "<a id='comp'></a>\n",
    "\n",
    "### Comparing Systems, Multi-line Plots\n",
    "\n",
    "When designing the dynamic response of a system, you may wish to plot the step responses of several systems using different parameter values.  The step response of the mass-spring-damper system plotted previously had many high frequency oscillations.  Perhaps different value of spring constant \\\\(k\\\\) could reduce or eliminate those oscillations.\n",
    "\n",
    "Let's plot the step response for the mass-spring-damper system for several values of \\\\(k\\\\), all on the same axes."
   ]
  },
  {
   "cell_type": "code",
   "execution_count": null,
   "metadata": {},
   "outputs": [],
   "source": [
    "m = 5\n",
    "b = 1\n",
    "k_list = [5, 10, 12]   # list of different k values to plot\n",
    "\n",
    "for k in k_list:\n",
    "    num = [1]\n",
    "    den = [m, b, k]\n",
    "    G = ss.TransferFunction(num,den)\n",
    "    \n",
    "    t,y = ss.step(G,T=np.arange(0,70.1,0.1))\n",
    "    plt.plot(t,y,label = 'k = {}'.format(k)) # replaces {} with the value of k\n",
    "\n",
    "plt.legend();"
   ]
  },
  {
   "cell_type": "markdown",
   "metadata": {},
   "source": [
    "<a id='lsim'></a>\n",
    "\n",
    "### scipy.signal.lsim: Response to Arbitrary Inputs\n",
    "\n",
    "So far we've plotted the response of the mass-spring-damper system to a unit step input using the function [scipy.signal.step](https://docs.scipy.org/doc/scipy/reference/generated/scipy.signal.step.html).\n",
    "\n",
    "You can similarly plot the [unit impulse response](https://en.wikipedia.org/wiki/Impulse_response) of a linear system using the [scipy.signal.impulse](https://docs.scipy.org/doc/scipy/reference/generated/scipy.signal.impulse.html) function.\n",
    "\n",
    "In this section, you will utilize a more genertic function for plotting the response of a linear system to any arbitrary function of time: [scipy.signal.lsim](https://docs.scipy.org/doc/scipy/reference/generated/scipy.signal.lsim.html).\n",
    "\n",
    "To use this function, we need to specify an array of time steps \\\\(t\\\\)  over which the system will be simulated and an array of values of the input \\\\(u(t)\\\\) at these time steps.\n",
    "\n",
    "In this example, we will plot the response of the system to the input \\\\(u(t) = 3 \\sin(2t)\\\\):"
   ]
  },
  {
   "cell_type": "code",
   "execution_count": null,
   "metadata": {},
   "outputs": [],
   "source": [
    "t = np.linspace(0,40,201)\n",
    "u = 3*np.sin(2*t)\n",
    "\n",
    "t_out,y,x = ss.lsim(G,u,t)\n",
    "\n",
    "plt.plot(t,u,t_out,y)\n",
    "plt.legend(('Input u(t)','Output y(t)'));"
   ]
  },
  {
   "cell_type": "markdown",
   "metadata": {},
   "source": [
    "Note that the system seems to reach steady state after \\\\(t=30\\)."
   ]
  }
 ],
 "metadata": {
  "kernelspec": {
   "display_name": "Python 3",
   "language": "python",
   "name": "python3"
  },
  "language_info": {
   "codemirror_mode": {
    "name": "ipython",
    "version": 3
   },
   "file_extension": ".py",
   "mimetype": "text/x-python",
   "name": "python",
   "nbconvert_exporter": "python",
   "pygments_lexer": "ipython3",
   "version": "3.8.3"
  }
 },
 "nbformat": 4,
 "nbformat_minor": 2
}
